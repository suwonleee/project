{
 "cells": [
  {
   "cell_type": "code",
   "execution_count": null,
   "metadata": {
    "vscode": {
     "languageId": "sql"
    }
   },
   "outputs": [],
   "source": [
    "-- *******************************\n",
    "-- 1. 비상관 서브쿼리\n",
    "SELECT\n",
    "  CategoryID, CategoryName, Description,\n",
    "  (SELECT ProductName FROM Products WHERE ProductID = 1)\n",
    "FROM Categories;\n",
    "\n",
    "SELECT * FROM Products\n",
    "WHERE Price < (\n",
    "  SELECT AVG(Price) FROM Products\n",
    ");\n",
    "\n",
    "SELECT\n",
    "  CategoryID, CategoryName, Description\n",
    "FROM Categories\n",
    "WHERE\n",
    "  CategoryID =\n",
    "  (SELECT CategoryID FROM Products\n",
    "  WHERE ProductName = 'Chais');\n",
    "\n",
    "SELECT\n",
    "  CategoryID, CategoryName, Description\n",
    "FROM Categories\n",
    "WHERE\n",
    "  CategoryID IN\n",
    "  (SELECT CategoryID FROM Products\n",
    "  WHERE Price > 50);\n",
    "\n",
    "-- ALL 서브쿼리의 모든 결과에 대해 ~하다\n",
    "-- ANY 서브쿼리의 하나 이상의 결과에 대해 ~하다\n",
    "\n",
    "SELECT * FROM Products\n",
    "WHERE Price > ALL (\n",
    "  SELECT Price FROM Products\n",
    "  WHERE CategoryID = 2\n",
    ");\n",
    "\n",
    "SELECT\n",
    "  CategoryID, CategoryName, Description\n",
    "FROM Categories\n",
    "WHERE\n",
    "  CategoryID = ANY\n",
    "  (SELECT CategoryID FROM Products\n",
    "  WHERE Price > 50);"
   ]
  },
  {
   "cell_type": "code",
   "execution_count": null,
   "metadata": {
    "vscode": {
     "languageId": "sql"
    }
   },
   "outputs": [],
   "source": [
    "-- *******************************\n",
    "-- 2. 상관 서브쿼리\n",
    "SELECT\n",
    "  ProductID, ProductName,\n",
    "  (\n",
    "    SELECT CategoryName FROM Categories C\n",
    "    WHERE C.CategoryID = P.CategoryID\n",
    "  ) AS CategoryName\n",
    "FROM Products P;\n",
    "\n",
    "SELECT\n",
    "  SupplierName, Country, City,\n",
    "  (\n",
    "    SELECT COUNT(*) FROM Customers C\n",
    "    WHERE C.Country = S.Country\n",
    "  ) AS CustomersInTheCountry,\n",
    "  (\n",
    "    SELECT COUNT(*) FROM Customers C\n",
    "    WHERE C.Country = S.Country \n",
    "      AND C.City = S.City\n",
    "  ) AS CustomersInTheCity\n",
    "FROM Suppliers S;\n",
    "\n",
    "SELECT\n",
    "  CategoryID, CategoryName,\n",
    "  (\n",
    "    SELECT MAX(Price) FROM Products P\n",
    "    WHERE P.CategoryID = C.CategoryID\n",
    "  ) AS MaximumPrice,\n",
    "  (\n",
    "    SELECT AVG(Price) FROM Products P\n",
    "    WHERE P.CategoryID = C.CategoryID\n",
    "  ) AS AveragePrice\n",
    "FROM Categories C;\n",
    "\n",
    "SELECT\n",
    "  ProductID, ProductName, CategoryID, Price\n",
    "  -- ,(SELECT AVG(Price) FROM Products P2\n",
    "  -- WHERE P2.CategoryID = P1.CategoryID)\n",
    "FROM Products P1\n",
    "WHERE Price < (\n",
    "  SELECT AVG(Price) FROM Products P2\n",
    "  WHERE P2.CategoryID = P1.CategoryID\n",
    ");\n",
    "\n",
    "-- EXISTS / NOT EXISTS 연산자\n",
    "SELECT\n",
    "  CategoryID, CategoryName\n",
    "  -- ,(SELECT MAX(P.Price) FROM Products P\n",
    "  -- WHERE P.CategoryID = C.CategoryID\n",
    "  -- ) AS MaxPrice\n",
    "FROM Categories C\n",
    "WHERE EXISTS (\n",
    "  SELECT * FROM Products P\n",
    "  WHERE P.CategoryID = C.CategoryID\n",
    "  AND P.Price > 80\n",
    ");"
   ]
  }
 ],
 "metadata": {
  "kernelspec": {
   "display_name": "Python 3.9.6 64-bit",
   "language": "python",
   "name": "python3"
  },
  "language_info": {
   "name": "python",
   "version": "3.9.6"
  },
  "orig_nbformat": 4,
  "vscode": {
   "interpreter": {
    "hash": "31f2aee4e71d21fbe5cf8b01ff0e069b9275f58929596ceb00d14d90e3e16cd6"
   }
  }
 },
 "nbformat": 4,
 "nbformat_minor": 2
}
