{
 "cells": [
  {
   "cell_type": "code",
   "execution_count": null,
   "metadata": {
    "vscode": {
     "languageId": "sql"
    }
   },
   "outputs": [],
   "source": [
    "-- *******************************\n",
    "-- ! 3. JOIN(INNER JOIN) - 내부 조인\n",
    "--양쪽 모두에 값이 있는 행(NOT NULL) 반환\n",
    "--'INNER '는 선택사항\n",
    "SELECT * FROM Categories C\n",
    "JOIN Products P \n",
    "  ON C.CategoryID = P.CategoryID; \n",
    "\n",
    "SELECT C.CategoryID, C.CategoryName, P.ProductName\n",
    "FROM Categories C\n",
    "JOIN Products P \n",
    "  ON C.CategoryID = P.CategoryID; \n",
    "-- ambiguous 주의!\n",
    "\n",
    "SELECT\n",
    "  CONCAT(\n",
    "    P.ProductName, ' by ', S.SupplierName\n",
    "  ) AS Product,\n",
    "  S.Phone, P.Price\n",
    "FROM Products P\n",
    "JOIN Suppliers S\n",
    "  ON P.SupplierID = S.SupplierID\n",
    "WHERE Price > 50\n",
    "ORDER BY ProductName;\n",
    "\n",
    "--💡 여러 테이블을 JOIN할 수 있습니다.\n",
    "SELECT \n",
    "  C.CategoryID, C.CategoryName, \n",
    "  P.ProductName, \n",
    "  O.OrderDate,\n",
    "  D.Quantity\n",
    "FROM Categories C\n",
    "JOIN Products P \n",
    "  ON C.CategoryID = P.CategoryID\n",
    "JOIN OrderDetails D\n",
    "  ON P.ProductID = D.ProductID\n",
    "JOIN Orders O\n",
    "  ON O.OrderID = D.OrderID;\n",
    "\n",
    "--💡 JOIN한 테이블 GROUP하기\n",
    "SELECT \n",
    "  C.CategoryName,\n",
    "  MIN(O.OrderDate) AS FirstOrder,\n",
    "  MAX(O.OrderDate) AS LastOrder,\n",
    "  SUM(D.Quantity) AS TotalQuantity\n",
    "FROM Categories C\n",
    "JOIN Products P \n",
    "  ON C.CategoryID = P.CategoryID\n",
    "JOIN OrderDetails D\n",
    "  ON P.ProductID = D.ProductID\n",
    "JOIN Orders O\n",
    "  ON O.OrderID = D.OrderID\n",
    "GROUP BY C.CategoryID;\n",
    "\n",
    "SELECT \n",
    "  C.CategoryName, P.ProductName,\n",
    "  MIN(O.OrderDate) AS FirstOrder,\n",
    "  MAX(O.OrderDate) AS LastOrder,\n",
    "  SUM(D.Quantity) AS TotalQuantity\n",
    "FROM Categories C\n",
    "JOIN Products P \n",
    "  ON C.CategoryID = P.CategoryID\n",
    "JOIN OrderDetails D\n",
    "  ON P.ProductID = D.ProductID\n",
    "JOIN Orders O\n",
    "  ON O.OrderID = D.OrderID\n",
    "GROUP BY C.CategoryID, P.ProductID;\n",
    "\n",
    "\n",
    "--💡 SELF JOIN - 같은 테이블끼리\n",
    "SELECT\n",
    "  E1.EmployeeID, CONCAT_WS(' ', E1.FirstName, E1.LastName) AS Employee,\n",
    "  E2.EmployeeID, CONCAT_WS(' ', E2.FirstName, E2.LastName) AS NextEmployee\n",
    "FROM Employees E1 JOIN Employees E2\n",
    "ON E1.EmployeeID + 1 = E2.EmployeeID;\n",
    "\n",
    "-- 1번의 전, 마지막 번호의 다음은?"
   ]
  },
  {
   "cell_type": "code",
   "execution_count": null,
   "metadata": {
    "vscode": {
     "languageId": "sql"
    }
   },
   "outputs": [],
   "source": [
    "-- *******************************\n",
    "-- ! 4. LEFT/RIGHT OUTER JOIN - 외부 조인\n",
    "-- 반대쪽에 데이터가 있든 없든(NULL), 선택된 방향에 있으면 출력 - 행 수 결정\n",
    "-- 'OUTER '는 선택사항\n",
    "SELECT\n",
    "  E1.EmployeeID, CONCAT_WS(' ', E1.FirstName, E1.LastName) AS Employee,\n",
    "  E2.EmployeeID, CONCAT_WS(' ', E2.FirstName, E2.LastName) AS NextEmployee\n",
    "FROM Employees E1\n",
    "LEFT JOIN Employees E2\n",
    "ON E1.EmployeeID + 1 = E2.EmployeeID\n",
    "ORDER BY E1.EmployeeID;\n",
    "\n",
    "-- LEFT를 RIGHT로 바꿔서도 실행해 볼 것\n",
    "\n",
    "\n"
   ]
  },
  {
   "cell_type": "code",
   "execution_count": null,
   "metadata": {
    "vscode": {
     "languageId": "sql"
    }
   },
   "outputs": [],
   "source": [
    "\n",
    "SELECT\n",
    "  C.CustomerName, S.SupplierName,\n",
    "  C.City, C.Country\n",
    "FROM Customers C\n",
    "LEFT JOIN Suppliers S\n",
    "ON C.City = S.City AND C.Country = S.Country;\n",
    "-- LEFT를 RIGHT로 바꿔서도 실행해 볼 것\n"
   ]
  },
  {
   "cell_type": "code",
   "execution_count": null,
   "metadata": {
    "vscode": {
     "languageId": "sql"
    }
   },
   "outputs": [],
   "source": [
    "\n",
    "SELECT\n",
    "  IFNULL(C.CustomerName, '-- NO CUSTOMER --'),\n",
    "  IFNULL(S.SupplierName, '-- NO SUPPLIER --'),\n",
    "  IFNULL(C.City, S.City),\n",
    "  IFNULL(C.Country, S.Country)\n",
    "FROM Customers C\n",
    "LEFT JOIN Suppliers S\n",
    "ON C.City = S.City AND C.Country = S.Country;\n",
    "\n",
    "-- LEFT를 RIGHT로 바꿔서도 실행해 볼 것"
   ]
  },
  {
   "cell_type": "code",
   "execution_count": null,
   "metadata": {
    "vscode": {
     "languageId": "sql"
    }
   },
   "outputs": [],
   "source": [
    "-- *******************************\n",
    "-- ! 5. CROSS JOIN - 교차 조인\n",
    "-- 조건 없이 모든 조합 반환(A * B)\n",
    "\n",
    "SELECT\n",
    "  E1.LastName, E2.FirstName\n",
    "FROM Employees E1\n",
    "CROSS JOIN Employees E2\n",
    "ORDER BY E1.EmployeeID;"
   ]
  }
 ],
 "metadata": {
  "kernelspec": {
   "display_name": "Python 3.9.6 64-bit",
   "language": "python",
   "name": "python3"
  },
  "language_info": {
   "name": "python",
   "version": "3.9.6"
  },
  "orig_nbformat": 4,
  "vscode": {
   "interpreter": {
    "hash": "31f2aee4e71d21fbe5cf8b01ff0e069b9275f58929596ceb00d14d90e3e16cd6"
   }
  }
 },
 "nbformat": 4,
 "nbformat_minor": 2
}
