{
 "cells": [
  {
   "cell_type": "code",
   "execution_count": null,
   "metadata": {
    "vscode": {
     "languageId": "sql"
    }
   },
   "outputs": [],
   "source": [
    "-- *******************************\n",
    "-- ! 6, 집합 (합집합 / 교집합 / 차집합 / 대칭 차집합)\n",
    "-- UNION 중복 제거한 집합 / UNION ALL 중복을 제거하지 않은 집합\n",
    "SELECT CustomerName AS Name, City, Country, 'CUSTOMER'\n",
    "FROM Customers\n",
    "UNION\n",
    "SELECT SupplierName AS Name, City, Country, 'SUPPLIER'\n",
    "FROM Suppliers\n",
    "ORDER BY Name;\n"
   ]
  },
  {
   "cell_type": "code",
   "execution_count": null,
   "metadata": {
    "vscode": {
     "languageId": "sql"
    }
   },
   "outputs": [],
   "source": [
    "-- 합집합\n",
    "SELECT CategoryID AS ID FROM Categories\n",
    "WHERE CategoryID > 4\n",
    "UNION\n",
    "SELECT EmployeeID AS ID FROM Employees\n",
    "WHERE EmployeeID % 2 = 0;\n",
    "\n",
    "-- UNION ALL로 바꿔볼 것"
   ]
  },
  {
   "cell_type": "code",
   "execution_count": null,
   "metadata": {
    "vscode": {
     "languageId": "sql"
    }
   },
   "outputs": [],
   "source": [
    "--교집합\n",
    "SELECT CategoryID AS ID\n",
    "FROM Categories C, Employees E\n",
    "WHERE \n",
    "  C.CategoryID > 4\n",
    "  AND E.EmployeeID % 2 = 0\n",
    "  AND C.CategoryID = E.EmployeeID;"
   ]
  },
  {
   "cell_type": "code",
   "execution_count": null,
   "metadata": {
    "vscode": {
     "languageId": "sql"
    }
   },
   "outputs": [],
   "source": [
    "--차집합\n",
    "SELECT CategoryID AS ID\n",
    "FROM Categories\n",
    "WHERE \n",
    "  CategoryID > 4\n",
    "  AND CategoryID NOT IN (\n",
    "    SELECT EmployeeID\n",
    "    FROM Employees\n",
    "    WHERE EmployeeID % 2 = 0\n",
    "  );"
   ]
  },
  {
   "cell_type": "code",
   "execution_count": null,
   "metadata": {
    "vscode": {
     "languageId": "sql"
    }
   },
   "outputs": [],
   "source": [
    "  -- 대칭차집합 (합집합 - 교집합)\n",
    "  SELECT ID FROM (\n",
    "  SELECT CategoryID AS ID FROM Categories\n",
    "  WHERE CategoryID > 4\n",
    "  UNION ALL\n",
    "  SELECT EmployeeID AS ID FROM Employees\n",
    "  WHERE EmployeeID % 2 = 0\n",
    ") AS Temp \n",
    "GROUP BY ID HAVING COUNT(*) = 1;"
   ]
  }
 ],
 "metadata": {
  "kernelspec": {
   "display_name": "Python 3.9.6 64-bit",
   "language": "python",
   "name": "python3"
  },
  "language_info": {
   "name": "python",
   "version": "3.9.6"
  },
  "orig_nbformat": 4,
  "vscode": {
   "interpreter": {
    "hash": "31f2aee4e71d21fbe5cf8b01ff0e069b9275f58929596ceb00d14d90e3e16cd6"
   }
  }
 },
 "nbformat": 4,
 "nbformat_minor": 2
}
