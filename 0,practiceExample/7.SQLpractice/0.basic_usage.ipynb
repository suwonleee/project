{
 "cells": [
  {
   "cell_type": "code",
   "execution_count": null,
   "metadata": {},
   "outputs": [],
   "source": [
    "# 프로그램 데이터/ 실행 하는 곳  https://www.w3schools.com/mysql/trymysql.asp?filename=trysql_select_all\n"
   ]
  },
  {
   "cell_type": "markdown",
   "metadata": {},
   "source": [
    "-- *******************************\n",
    "-- SELECT - 내가 원하는 정보 가져오기\n",
    "-- *******************************"
   ]
  },
  {
   "cell_type": "code",
   "execution_count": null,
   "metadata": {
    "vscode": {
     "languageId": "sql"
    }
   },
   "outputs": [],
   "source": [
    "--! 1. 테이블의 모든 내용 보기\n",
    "SELECT * FROM Customers;"
   ]
  },
  {
   "cell_type": "code",
   "execution_count": null,
   "metadata": {
    "vscode": {
     "languageId": "sql"
    }
   },
   "outputs": [],
   "source": [
    "-- *******************************\n",
    "--! 2. 원하는 column(열)만 골라서 보기\n",
    "SELECT CustomerName FROM Customers;\n",
    "SELECT CustomerName, ContactName, Country FROM Customers;"
   ]
  },
  {
   "cell_type": "code",
   "execution_count": null,
   "metadata": {
    "vscode": {
     "languageId": "sql"
    }
   },
   "outputs": [],
   "source": [
    "-- 테이블의 컬럼이 아닌 값도 선택할 수 있다.\n",
    "SELECT\n",
    "  CustomerName, 1, 'Hello', NULL\n",
    "FROM Customers;"
   ]
  },
  {
   "cell_type": "code",
   "execution_count": null,
   "metadata": {
    "vscode": {
     "languageId": "sql"
    }
   },
   "outputs": [],
   "source": [
    "-- *******************************\n",
    "-- ! 3. 원하는 조건의 row(행)만 걸러서 보기\n",
    "SELECT * FROM Orders\n",
    "WHERE EmployeeID = 3;\n",
    "\n",
    "SELECT * FROM OrderDetails \n",
    "WHERE Quantity < 5;\n",
    "--# Quantity가 5 이하인 데이터 가져오기"
   ]
  },
  {
   "cell_type": "code",
   "execution_count": null,
   "metadata": {
    "vscode": {
     "languageId": "sql"
    }
   },
   "outputs": [],
   "source": [
    "-- *******************************\n",
    "-- ! 4. 원하는 순서로 데이터 가져오기\n",
    "SELECT * FROM Customers\n",
    "ORDER BY ContactName;\n",
    "--# contactName 정렬 순서대로 가져오게 된다.\n",
    "\n",
    "SELECT * FROM OrderDetails\n",
    "ORDER BY ProductID ASC, Quantity DESC;\n",
    "--#ProductID 는 오름차순, Quantity 는 내림차순으로 가져오기"
   ]
  },
  {
   "cell_type": "code",
   "execution_count": null,
   "metadata": {
    "vscode": {
     "languageId": "sql"
    }
   },
   "outputs": [],
   "source": [
    "-- *******************************\n",
    "-- ! 5. 원하는 만큼만 데이터 가져오기\n",
    "SELECT * FROM Customers\n",
    "LIMIT 10;\n",
    "--밑 코드와 동일\n",
    "\n",
    "SELECT * FROM Customers\n",
    "LIMIT 0, 10;\n",
    "--처음부터 10개 가져오기\n",
    "\n",
    "SELECT * FROM Customers\n",
    "LIMIT 30, 10;\n",
    "--#30번째 부터 10개 가져오기"
   ]
  },
  {
   "cell_type": "code",
   "execution_count": null,
   "metadata": {
    "vscode": {
     "languageId": "sql"
    }
   },
   "outputs": [],
   "source": [
    "-- *******************************\n",
    "--! 6. 원하는 별명(alias)으로 데이터 가져오기\n",
    "SELECT\n",
    "  CustomerId AS ID,\n",
    "  CustomerName AS NAME,\n",
    "  Address AS ADDR\n",
    "FROM Customers;\n",
    "--# 데이터 열을 as(~라는 이름으로) 가져오기\n",
    "\n",
    "SELECT\n",
    "  CustomerId AS '아이디',\n",
    "  CustomerName AS '고객명',\n",
    "  Address AS '주소'\n",
    "FROM Customers;\n",
    "\n",
    "--#todo 모두 활용\n",
    "SELECT\n",
    "  CustomerID AS '아이디',\n",
    "  CustomerName AS '고객명',\n",
    "  City AS '도시',\n",
    "  Country AS '국가'\n",
    "FROM Customers\n",
    "WHERE\n",
    "  City = 'London' OR Country = 'Mexico'\n",
    "ORDER BY CustomerName\n",
    "LIMIT 0, 5;\n",
    "--# 아이디, 고객명, 도시, 국가 로 바꾸고(AS) 'london' 과 'mexico' 를 가지고 있고, CustomerName으로 정렬한 후 상위 5개 출력\n"
   ]
  },
  {
   "cell_type": "code",
   "execution_count": null,
   "metadata": {
    "vscode": {
     "languageId": "sql"
    }
   },
   "outputs": [],
   "source": [
    "#*******************************\n",
    "--! 7. 사칙연산\n",
    "SELECT 1 + 2;\n",
    "SELECT 5 - 2.5 AS DIFFERENCE;\n",
    "SELECT 3 * (2 + 4) / 2, 'Hello';\n",
    "SELECT 10 % 3;\n",
    "--# 문자열에 사칙연산을 가하면 0으로 인식\n",
    "SELECT 'ABC' + 3;\n",
    "SELECT 'ABC' * 3;\n",
    "SELECT '1' + '002' * 3;\n",
    "\n",
    "SELECT\n",
    "  OrderID + ProductID\n",
    "FROM OrderDetails;\n",
    "--#OrderID 와 ProductID를 더한 값이 나온다\n",
    "\n",
    "SELECT\n",
    "  ProductName,\n",
    "  Price / 2 AS HalfPrice\n",
    "FROM Products;\n",
    "--# price 절반 가격한거를 halfprice 열로 출력 "
   ]
  },
  {
   "cell_type": "code",
   "execution_count": null,
   "metadata": {
    "vscode": {
     "languageId": "sql"
    }
   },
   "outputs": [],
   "source": [
    "#*******************************\n",
    "--! 8. 참/거짓 관련 연산자\n",
    "SELECT TRUE, FALSE;\n",
    "#todo true 는 1 false 는 0으로 나온다\n",
    "SELECT !TRUE, NOT 1, !FALSE, NOT FALSE;\n",
    "--# 0 0 1 1\n",
    "SELECT 0 = TRUE, 1 = TRUE, 0 = FALSE, 1 = FALSE;\n",
    "--# 0 1 1 0\n",
    "SELECT * FROM Customers WHERE TRUE;\n",
    "--#전체 다 나옴 \n",
    "SELECT * FROM Customers WHERE FALSE;\n",
    "--#아무것도 안 나옴 \n"
   ]
  },
  {
   "cell_type": "code",
   "execution_count": null,
   "metadata": {
    "vscode": {
     "languageId": "sql"
    }
   },
   "outputs": [],
   "source": [
    "\n",
    "--todo IS / IS NOT\n",
    "SELECT TRUE IS TRUE;\n",
    "SELECT TRUE IS NOT FALSE;\n",
    "SELECT (TRUE IS FALSE) IS NOT TRUE;\n",
    "\n",
    "--todo AND && / OR ||\n",
    "SELECT TRUE AND FALSE, TRUE OR FALSE;\n",
    "SELECT 2 + 3 = 6 OR 2 * 3 = 6;\n",
    "--#1 출력\n",
    "SELECT 2 + 3 = 6 AND 2 * 3 = 6;\n",
    "--#0 출력\n",
    "\n",
    "SELECT * FROM Orders\n",
    "WHERE\n",
    "  CustomerId = 15 AND EmployeeId = 4;\n",
    "--#CustomerId 가 15 이면서 동시에, EmployeeId 가 4인 데이터\n",
    "\n",
    "SELECT * FROM Products \n",
    "WHERE\n",
    "  ProductName = 'Tofu' OR CategoryId = 8;\n",
    "  --#Tofu 이거나 동시에, CategoryId 가 8인 데이터\n",
    "\n",
    "\n",
    "SELECT * FROM OrderDetails\n",
    "WHERE\n",
    "  ProductId = 20\n",
    "  AND (OrderId = 10514 OR Quantity = 50);"
   ]
  },
  {
   "cell_type": "code",
   "execution_count": null,
   "metadata": {
    "vscode": {
     "languageId": "sql"
    }
   },
   "outputs": [],
   "source": [
    "\n",
    "--todo = != <> <,> , >=, <=\n",
    "SELECT 1 = 1, !(1 <> 1), NOT (1 < 2), 1 > 0 IS NOT FALSE;\n",
    "SELECT 'A' = 'A', 'A' != 'B', 'A' < 'B', 'A' > 'B';\n",
    "SELECT 'Apple' > 'Banana' OR 1 < 2 IS TRUE;"
   ]
  },
  {
   "cell_type": "code",
   "execution_count": null,
   "metadata": {
    "vscode": {
     "languageId": "sql"
    }
   },
   "outputs": [],
   "source": [
    "\n",
    "--todo 기본 사칙연산자는 대소문자 구분 안함\n",
    "SELECT 'A' = 'a';\n",
    "-- 1 (true)\n",
    "\n",
    "SELECT\n",
    "  ProductName, Price,\n",
    "  Price > 20 AS EXPENSIVE \n",
    "FROM Products;\n",
    "-- price가 20이 넘는가에 따라 expensive 열에 true(1) / false(0) 이 새겨진다.\n",
    "\n",
    "SELECT\n",
    "  ProductName, Price,\n",
    "  NOT Price > 20 AS CHEAP \n",
    "FROM Products;"
   ]
  },
  {
   "cell_type": "code",
   "execution_count": null,
   "metadata": {
    "vscode": {
     "languageId": "sql"
    }
   },
   "outputs": [],
   "source": [
    "-- #todo Between A AND B\n",
    "SELECT 5 BETWEEN 1 AND 10;\n",
    "-- true(1)\n",
    "\n",
    "SELECT 'banana' NOT BETWEEN 'Apple' AND 'camera';\n",
    "-- b는 a와 c 사이에 있으므로, NOT BETWEEN 은 false\n",
    "\n",
    "SELECT * FROM OrderDetails\n",
    "WHERE ProductID BETWEEN 1 AND 4;\n",
    "\n",
    "SELECT * FROM Customers\n",
    "WHERE CustomerName BETWEEN 'b' AND 'c';"
   ]
  },
  {
   "cell_type": "code",
   "execution_count": null,
   "metadata": {
    "vscode": {
     "languageId": "sql"
    }
   },
   "outputs": [],
   "source": [
    "\n",
    "-- #todo IN / NOT IN\n",
    "SELECT 1 + 2 IN (2, 3, 4) \n",
    "-- true(1)\n",
    "\n",
    "SELECT 'Hello' IN (1, TRUE, 'hello')\n",
    "-- true(1)\n",
    "\n",
    "SELECT * FROM Customers\n",
    "WHERE City IN ('Torino', 'Paris', 'Portland', 'Madrid') "
   ]
  },
  {
   "cell_type": "code",
   "execution_count": null,
   "metadata": {
    "vscode": {
     "languageId": "sql"
    }
   },
   "outputs": [],
   "source": [
    "\n",
    "-- #todo LIKE\n",
    "--like 옆에 문자와 비슷하게 생겼는지 물어보는 코드\n",
    "SELECT\n",
    "  'HELLO' LIKE 'hel%', #1(true)\n",
    "  'HELLO' LIKE 'H%', #1(true)\n",
    "  'HELLO' LIKE 'H%O', #1(true)\n",
    "  'HELLO' LIKE '%O', #1(true)\n",
    "  'HELLO' LIKE '%HELLO%', #1(true)\n",
    "  'HELLO' LIKE '%H', #0(False)\n",
    "  'HELLO' LIKE 'L%' #0(False)\n",
    "\n",
    "SELECT\n",
    "  'HELLO' LIKE 'HEL__', #1(true)\n",
    "  'HELLO' LIKE 'h___O', #1(true)  소문자여도 가능\n",
    "  'HELLO' LIKE 'HE_LO', #1(true)\n",
    "  'HELLO' LIKE '_____', #1(true)\n",
    "  'HELLO' LIKE '_HELLO', #0(False)  앞에 문자 없음\n",
    "  'HELLO' LIKE 'HEL_', #0(False)  공백이 두자리 필요한데 한자리만\n",
    "  'HELLO' LIKE 'H_O' #0(False)  공백이 부족\n",
    "\n",
    "SELECT * FROM Employees\n",
    "WHERE Notes LIKE '%economics%'\n",
    "--notes 에 economics가 있는 데이터 뽑아오기\n",
    "\n",
    "SELECT * FROM OrderDetails\n",
    "WHERE OrderID LIKE '1025_'\n",
    "--OrderID 에 1025_ 가 있는 데이터 뽑아오기\n",
    "-- 숫자로 구성된 문자열은 숫자로 자동인식\n"
   ]
  },
  {
   "cell_type": "code",
   "execution_count": null,
   "metadata": {
    "vscode": {
     "languageId": "sql"
    }
   },
   "outputs": [],
   "source": [
    "--# *******************************\n",
    "-- #! 9 숫자와 관련된 함수들\n",
    "-- # todo 반올림 / 올림 / 내림\n",
    "SELECT \n",
    "  ROUND(0.5),  #반올림\n",
    "  CEIL(0.4),  #올림\n",
    "  FLOOR(0.6);  #내림\n",
    "\n",
    "SELECT \n",
    "  Price,\n",
    "  ROUND(price), # 반올림 된 새로운 열\n",
    "  CEIL(price), #올림 된 새로운 열\n",
    "  FLOOR(price) #내림 된 새로운 열\n",
    "FROM Products;\n",
    "\n",
    "\n",
    "-- # todo 절대값\n",
    "SELECT ABS(1), ABS(-1), ABS(3 - 10); #절대값\n",
    "--#1 1 7\n",
    "\n",
    "SELECT * FROM OrderDetails\n",
    "WHERE ABS(Quantity - 10) < 5;"
   ]
  },
  {
   "cell_type": "code",
   "execution_count": null,
   "metadata": {
    "vscode": {
     "languageId": "sql"
    }
   },
   "outputs": [],
   "source": [
    "\n",
    "-- #todo 최댓값 최솟값\n",
    "SELECT \n",
    "  GREATEST(1, 2, 3), #최댓값 3\n",
    "  LEAST(1, 2, 3, 4, 5);  #최솟값 1\n",
    "\n",
    "SELECT\n",
    "  OrderDetailID, ProductID, Quantity,\n",
    "  GREATEST(OrderDetailID, ProductID, Quantity), #최댓값 새로운 행 \n",
    "  LEAST(OrderDetailID, ProductID, Quantity)  #최솟값 새로운 행 \n",
    "FROM OrderDetails;"
   ]
  },
  {
   "cell_type": "code",
   "execution_count": null,
   "metadata": {
    "vscode": {
     "languageId": "sql"
    }
   },
   "outputs": [],
   "source": [
    "\n",
    "-- #todo 큰 값, 작은 값, 갯수, 총합, 평균값\n",
    "SELECT\n",
    "  MAX(Quantity), #가장 큰 값\n",
    "  MIN(Quantity),#가장 작은 값\n",
    "  COUNT(Quantity), #갯수 null값 제외\n",
    "  SUM(Quantity), #총합\n",
    "  AVG(Quantity)  #평균 값 \n",
    "FROM OrderDetails\n",
    "WHERE OrderDetailID BETWEEN 20 AND 30; #OrderDetailID 중 20 ~ 30 사이 값."
   ]
  },
  {
   "cell_type": "code",
   "execution_count": null,
   "metadata": {
    "vscode": {
     "languageId": "sql"
    }
   },
   "outputs": [],
   "source": [
    "\n",
    "-- #todo 제곱 / 제곱근\n",
    "SELECT\n",
    "  POW(2, 3), #8\n",
    "  POWER(5, 2), #25\n",
    "  SQRT(16); #4"
   ]
  },
  {
   "cell_type": "code",
   "execution_count": null,
   "metadata": {
    "vscode": {
     "languageId": "sql"
    }
   },
   "outputs": [],
   "source": [
    "\n",
    "-- #todo 소숫점 n자리까지 선택\n",
    "SELECT\n",
    "  TRUNCATE(1234.5678, 1), #1234.5\n",
    "  TRUNCATE(1234.5678, 2), #1234.56\n",
    "  TRUNCATE(1234.5678, 3), #1234.567\n",
    "  TRUNCATE(1234.5678, -1), #1230\n",
    "  TRUNCATE(1234.5678, -2), #1200\n",
    "  TRUNCATE(1234.5678, -3); #1000"
   ]
  },
  {
   "cell_type": "code",
   "execution_count": null,
   "metadata": {
    "vscode": {
     "languageId": "sql"
    }
   },
   "outputs": [],
   "source": [
    "-- #*******************************\n",
    "-- #! 10. 문자열 관련 함수들\n",
    "\n",
    "-- #todo 대문자로, 소문자로\n",
    "SELECT\n",
    "  UPPER('abcDEF'), #ABCDEF\n",
    "  LOWER('abcDEF'); #abcdef\n",
    "\n",
    "SELECT\n",
    "  UCASE(CustomerName),\n",
    "  LCASE(ContactName)\n",
    "FROM Customers;\n",
    "-- # CustomerName은 대문자, ContactName는 소문자로"
   ]
  },
  {
   "cell_type": "code",
   "execution_count": null,
   "metadata": {
    "vscode": {
     "languageId": "sql"
    }
   },
   "outputs": [],
   "source": [
    "\n",
    "-- #todo 괄호 안 내용 이어붙이기\n",
    "SELECT CONCAT('HELLO', ' ', 'THIS IS ', 2021)\n",
    "SELECT CONCAT_WS('-', 2021, 8, 15, 'AM') #CONCAT_WS는 -로 각 문장을 이어붙이는 것 ex) 2021-8-15-AM\n",
    "SELECT CONCAT('O-ID: ', OrderID) FROM Orders;\n",
    "SELECT\n",
    "-- #CONCAT_WS(' ', FirstName, LastName) AS FullName # FirstName 과 LastName 사이에 ' '공백을 넣어서 Fullname 열을 새로 만들어주기.\n",
    "FROM Employees;\n"
   ]
  },
  {
   "cell_type": "code",
   "execution_count": null,
   "metadata": {
    "vscode": {
     "languageId": "sql"
    }
   },
   "outputs": [],
   "source": [
    "\n",
    "-- #todo 문자열 자름, 왼쪽부터, 오른쪽부터\n",
    "SELECT\n",
    "  SUBSTR('ABCDEFG', 3), #CDEFG\n",
    "  SUBSTR('ABCDEFG', 3, 2), #CD\t\n",
    "  SUBSTR('ABCDEFG', -4), #DEFG\n",
    "  SUBSTR('ABCDEFG', -4, 2); #DE\n",
    "\n",
    "SELECT\n",
    "  LEFT('ABCDEFG', 3), #ABC\n",
    "  RIGHT('ABCDEFG', 3); #EFG\n",
    "\n",
    "SELECT\n",
    "  OrderDate,\n",
    "  LEFT(OrderDate, 4) AS Year, #1997 같은 연도\n",
    "  SUBSTR(OrderDate, 6, 2) AS #07 05 같은 월\n",
    "  RIGHT(OrderDate, 2) AS Day #04 05 12 같은 날짜.\n",
    "FROM Orders;"
   ]
  },
  {
   "cell_type": "code",
   "execution_count": null,
   "metadata": {
    "vscode": {
     "languageId": "sql"
    }
   },
   "outputs": [],
   "source": [
    "\n",
    "--#todo 문자열 바이트 길이, 문자 길이\n",
    "SELECT\n",
    "  LENGTH('ABCDE'),  #5\n",
    "  CHAR_LENGTH('ABCDE'),  #5\n",
    "  CHARACTER_LENGTH('ABCDE');  #5\n",
    "\n",
    "SELECT\n",
    "  LENGTH('안녕하세요'), #15\n",
    "  CHAR_LENGTH('안녕하세요'), #5\n",
    "  CHARACTER_LENGTH('안녕하세요'); #5\n"
   ]
  },
  {
   "cell_type": "code",
   "execution_count": null,
   "metadata": {
    "vscode": {
     "languageId": "sql"
    }
   },
   "outputs": [],
   "source": [
    "\n",
    "-- #todo 공백 제거\n",
    "SELECT\n",
    "  CONCAT('|', ' HELLO ', '|'),\n",
    "  CONCAT('|', LTRIM(' HELLO '), '|'),\n",
    "  CONCAT('|', RTRIM(' HELLO '), '|'),\n",
    "  CONCAT('|', TRIM(' HELLO '), '|');\n",
    "\n",
    "SELECT * FROM Categories\n",
    "WHERE CategoryName = ' Beverages '\n",
    "-- #결과 없음\n",
    "\n",
    "SELECT * FROM Categories\n",
    "WHERE CategoryName = TRIM(' Beverages ')\n",
    "-- #결과 나옴"
   ]
  },
  {
   "cell_type": "code",
   "execution_count": null,
   "metadata": {
    "vscode": {
     "languageId": "sql"
    }
   },
   "outputs": [],
   "source": [
    "\n",
    "--#todo 자릿수 채워넣기\n",
    "SELECT\n",
    "  LPAD('ABC', 5, '-'), -- #--ABC\t\n",
    "  RPAD('ABC', 5, '-'); -- #ABC--\n",
    "\n",
    "SELECT\n",
    "  LPAD(SupplierID, 5, 0), --# SupplierID를 불러와서 5자리로 만들기, 자릿수에 안 맞는다면 0으로 채워넣기.\n",
    "  RPAD(Price, 6, 0)\n",
    "FROM Products;"
   ]
  },
  {
   "cell_type": "code",
   "execution_count": null,
   "metadata": {
    "vscode": {
     "languageId": "sql"
    }
   },
   "outputs": [],
   "source": [
    "\n",
    "--#todo 대체 A 에서 B를 C로 변경\n",
    "SELECT\n",
    "  REPLACE('맥도날드에서 맥도날드 햄버거를 먹었다.', '맥도날드', '버거킹');\n",
    "  --#맥도날드를 버거킹으로 교체\n",
    "  --#버거킹에서 버거킹 햄버거를 먹었다.\n",
    "SELECT\n",
    "  REPLACE(Description, ', ', ' and ')\n",
    "FROM Categories;\n",
    "--#, 를 and로 교체"
   ]
  },
  {
   "cell_type": "code",
   "execution_count": null,
   "metadata": {
    "vscode": {
     "languageId": "sql"
    }
   },
   "outputs": [],
   "source": [
    "-- todo STR 안에 문자 확인 , 없을 시 0\n",
    "SELECT\n",
    "  INSTR('ABCDE', 'ABC'), --1\n",
    "  INSTR('ABCDE', 'BCDE'), --2\n",
    "  INSTR('ABCDE', 'C'), --3\n",
    "  INSTR('ABCDE', 'DE'), --4\n",
    "  INSTR('ABCDE', 'F'); --0\n",
    "\n",
    "SELECT * FROM Customers\n",
    "WHERE INSTR(CustomerName, ' ') BETWEEN 1 AND 6;\n",
    "-- < first name이 한글자부터 다섯글자까지 이신 분들"
   ]
  },
  {
   "cell_type": "code",
   "execution_count": null,
   "metadata": {
    "vscode": {
     "languageId": "sql"
    }
   },
   "outputs": [],
   "source": [
    "--todo A를 B 자료형으로 변환\n",
    "SELECT\n",
    "  '01' = '1',\n",
    "  CONVERT('01', DECIMAL) = CONVERT('1', DECIMAL);\n"
   ]
  },
  {
   "cell_type": "code",
   "execution_count": null,
   "metadata": {
    "vscode": {
     "languageId": "sql"
    }
   },
   "outputs": [],
   "source": [
    "-- *******************************\n",
    "--! 11. 시간/날짜 관련 함수들\n",
    "\n",
    "--todo 현재 날짜, 시간을 반환하기\n",
    "SELECT CURDATE(), CURTIME(), NOW();\n",
    "--현재 시간과 날짜를 표시\n",
    "\n",
    "--todo 문자열에 따라 날짜, 시간 생성\n",
    "SELECT\n",
    "  '2021-6-1' = '2021-06-01', -- 0\n",
    "  DATE('2021-6-1') = DATE('2021-06-01'), -- 1\n",
    "  '1:2:3' = '01:02:03', -- 0\n",
    "  TIME('1:2:3') = TIME('01:02:03'); -- 1\n",
    "\n",
    "SELECT\n",
    "  '2021-6-1 1:2:3' = '2021-06-01 01:02:03', -- 0\n",
    "  DATE('2021-6-1 1:2:3') = DATE('2021-06-01 01:02:03'), -- 1\n",
    "  TIME('2021-6-1 1:2:3') = TIME('2021-06-01 01:02:03'), -- 1\n",
    "  DATE('2021-6-1 1:2:3') = TIME('2021-06-01 01:02:03'), -- 0\n",
    "  DATE('2021-6-1') = DATE('2021-06-01 01:02:03'), -- 1\n",
    "  TIME('2021-6-1 1:2:3') = TIME('01:02:03'); -- 1\n",
    "\n",
    "SELECT * FROM Orders\n",
    "WHERE\n",
    "  OrderDate BETWEEN DATE('1997-1-1') AND DATE('1997-1-31');\n",
    "  --1월 1일부터 31일까지 날짜인 데이터 추출"
   ]
  },
  {
   "cell_type": "code",
   "execution_count": null,
   "metadata": {
    "vscode": {
     "languageId": "sql"
    }
   },
   "outputs": [],
   "source": [
    "--todo DATETIME의 정보 반환\n",
    "SELECT\n",
    "  OrderDate,\n",
    "  YEAR(OrderDate) AS YEAR, --연도 반환\n",
    "  MONTHNAME(OrderDate) AS MONTHNAME, --월 반환\n",
    "  MONTH(OrderDate) AS MONTH,\n",
    "  WEEKDAY(OrderDate) AS WEEKDAY, --주 반환\n",
    "  DAYNAME(OrderDate) AS DAYNAME, --요일명 반환\n",
    "  DAY(OrderDate) AS DAY --날짜 반환\n",
    "FROM Orders;\n",
    "\n",
    "SELECT\n",
    "  OrderDate,\n",
    "  CONCAT(\n",
    "    CONCAT_WS(\n",
    "      '/',\n",
    "      YEAR(OrderDate), MONTH(OrderDate), DAY(OrderDate)\n",
    "    ),\n",
    "    ' ',\n",
    "    UPPER(LEFT(DAYNAME(OrderDate), 3))\n",
    "  )\n",
    "FROM Orders;\n",
    "\n",
    "SELECT * FROM Orders\n",
    "WHERE WEEKDAY(OrderDate) = 0;\n",
    "\n"
   ]
  },
  {
   "cell_type": "code",
   "execution_count": null,
   "metadata": {
    "vscode": {
     "languageId": "sql"
    }
   },
   "outputs": [],
   "source": [
    "--todo 주어진 DATETIME의 시 분 초 반환\n",
    "SELECT\n",
    "  HOUR(NOW()), MINUTE(NOW()), SECOND(NOW());\n",
    "\n",
    "--todo 시간/ 날짜 더하기 , 빼기 \n",
    "SELECT \n",
    "  ADDDATE('2021-06-20', INTERVAL 1 YEAR),\n",
    "  ADDDATE('2021-06-20', INTERVAL -2 MONTH),\n",
    "  ADDDATE('2021-06-20', INTERVAL 3 WEEK),\n",
    "  ADDDATE('2021-06-20', INTERVAL -4 DAY),\n",
    "  ADDDATE('2021-06-20', INTERVAL -5 MINUTE),\n",
    "  ADDDATE('2021-06-20 13:01:12', INTERVAL 6 SECOND);"
   ]
  },
  {
   "cell_type": "code",
   "execution_count": null,
   "metadata": {
    "vscode": {
     "languageId": "sql"
    }
   },
   "outputs": [],
   "source": [
    "SELECT\n",
    "  OrderDate,\n",
    "  ADDDATE(OrderDate, INTERVAL 1 YEAR),\n",
    "  ADDDATE(OrderDate, INTERVAL -2 MONTH),\n",
    "  ADDDATE(OrderDate, INTERVAL 3 WEEK),\n",
    "  ADDDATE(OrderDate, INTERVAL -4 DAY),\n",
    "  ADDDATE(OrderDate, INTERVAL -5 MINUTE)\n",
    "FROM Orders;"
   ]
  },
  {
   "cell_type": "code",
   "execution_count": null,
   "metadata": {
    "vscode": {
     "languageId": "sql"
    }
   },
   "outputs": [],
   "source": [
    "--todo 두 시간 / 날짜간 일수, 시간차\n",
    "SELECT\n",
    "  OrderDate,\n",
    "  NOW(),\n",
    "  DATEDIFF(OrderDate, NOW())\n",
    "FROM Orders;\n",
    "\n",
    "SELECT\n",
    "  TIMEDIFF('2021-06-21 15:20:35', '2021-06-21 16:34:41');\n",
    "\n",
    "\n",
    "SELECT * FROM Orders\n",
    "WHERE\n",
    "  ABS(DATEDIFF(OrderDate, '1996-10-10')) < 5;"
   ]
  },
  {
   "cell_type": "code",
   "execution_count": null,
   "metadata": {
    "vscode": {
     "languageId": "sql"
    }
   },
   "outputs": [],
   "source": [
    "\n",
    "--todo 해당 달의 마지막 날짜.\n",
    "SELECT\n",
    "  OrderDate,\n",
    "  LAST_DAY(OrderDate),\n",
    "  DAY(LAST_DAY(OrderDate)),\n",
    "  DATEDIFF(LAST_DAY(OrderDate), OrderDate)\n",
    "FROM Orders;"
   ]
  },
  {
   "cell_type": "code",
   "execution_count": null,
   "metadata": {
    "vscode": {
     "languageId": "sql"
    }
   },
   "outputs": [],
   "source": [
    "--todo 시간/날짜를 지정한 형식으로 반환\n",
    "SELECT\n",
    "  DATE_FORMAT(NOW(), '%M %D, %Y %T'), --월, 일, 연도4자리, hh:mm:ss\n",
    "  DATE_FORMAT(NOW(), '%y-%m-%d %h:%i:%s %p'),\n",
    "  DATE_FORMAT(NOW(), '%Y년 %m월 %d일 %p %h시 %i분 %s초');\n",
    "\n",
    "SELECT REPLACE(\n",
    "  REPLACE(\n",
    "    DATE_FORMAT(NOW(), '%Y년 %m월 %d일 %p %h시 %i분 %초'),\n",
    "    'AM', '오전'\n",
    "  ),\n",
    "  'PM', '오후'\n",
    ")"
   ]
  },
  {
   "cell_type": "code",
   "execution_count": null,
   "metadata": {
    "vscode": {
     "languageId": "sql"
    }
   },
   "outputs": [],
   "source": [
    "--todo 날짜 s를 f 형식으로 해석하여 시간/ 날짜 생성\n",
    "SELECT\n",
    "  DATEDIFF(\n",
    "    STR_TO_DATE('2021-06-04 07:48:52', '%Y-%m-%d %T'),\n",
    "    STR_TO_DATE('2021-06-01 12:30:05', '%Y-%m-%d %T')\n",
    "  ),\n",
    "  TIMEDIFF(\n",
    "    STR_TO_DATE('2021-06-04 07:48:52', '%Y-%m-%d %T'),\n",
    "    STR_TO_DATE('2021-06-01 12:30:05', '%Y-%m-%d %T')\n",
    "  );\n"
   ]
  },
  {
   "cell_type": "code",
   "execution_count": null,
   "metadata": {
    "vscode": {
     "languageId": "sql"
    }
   },
   "outputs": [],
   "source": [
    "SELECT\n",
    "  OrderDate,\n",
    "  DATEDIFF(\n",
    "    STR_TO_DATE('1997-01-01 13:24:35', '%Y-%m-%d %T'),\n",
    "    OrderDate\n",
    "  ),\n",
    "  TIMEDIFF(\n",
    "    STR_TO_DATE('1997-01-01 13:24:35', '%Y-%m-%d %T'),\n",
    "    STR_TO_DATE(CONCAT(OrderDate, ' ', '00:00:00'), '%Y-%m-%d %T')\n",
    "  )\n",
    "FROM Orders;"
   ]
  },
  {
   "cell_type": "code",
   "execution_count": null,
   "metadata": {
    "vscode": {
     "languageId": "sql"
    }
   },
   "outputs": [],
   "source": [
    "-- *******************************\n",
    "-- ! 12. 기타 함수들\n",
    "\n",
    "--todo 조건이 참이라면 T, 거짓이라면 F 반환\n",
    "SELECT IF (1 > 2, '1는 2보다 크다.', '1은 2보다 작다.');\n",
    "\n",
    "--CASE\n",
    "SELECT\n",
    "CASE\n",
    "  WHEN -1 > 0 THEN '-1은 양수다.'\n",
    "  WHEN -1 = 0 THEN '-1은 0이다.'\n",
    "  ELSE '-1은 음수다.'\n",
    "END;\n",
    "\n",
    "SELECT\n",
    "  Price,\n",
    "  IF (Price > 30, 'Expensive', 'Cheap'),\n",
    "  CASE\n",
    "    WHEN Price < 20 THEN '저가'\n",
    "    WHEN Price BETWEEN 20 AND 30 THEN '일반'\n",
    "    ELSE '고가'\n",
    "  END\n",
    "FROM Products;\n",
    "\n",
    "--todo A가 null일 때 B출력\n",
    "SELECT\n",
    "  IFNULL('A', 'B'),\n",
    "  IFNULL(NULL, 'B');\n"
   ]
  },
  {
   "cell_type": "code",
   "execution_count": null,
   "metadata": {
    "vscode": {
     "languageId": "sql"
    }
   },
   "outputs": [],
   "source": [
    "-- *******************************\n",
    "-- ! 13. GROUP BY - 조건에 따라 집계된 값을 가져옵니다.\n",
    "SELECT Country FROM Customers\n",
    "GROUP BY Country;\n",
    "\n",
    "SELECT CategoryID FROM Products\n",
    "GROUP BY CategoryID;\n",
    "\n",
    "--todo 여러 컬럼을 기준으로 그룹화할 수도 있습니다.\n",
    "SELECT \n",
    "  Country, City,\n",
    "  CONCAT_WS(', ', City, Country)\n",
    "FROM Customers\n",
    "GROUP BY Country, City;\n"
   ]
  },
  {
   "cell_type": "code",
   "execution_count": null,
   "metadata": {
    "vscode": {
     "languageId": "sql"
    }
   },
   "outputs": [],
   "source": [
    "--todo 그룹 함수 활용하기\n",
    "SELECT\n",
    "  COUNT(*), OrderDate\n",
    "FROM Orders\n",
    "GROUP BY OrderDate;\n",
    "\n",
    "SELECT\n",
    "  ProductID,\n",
    "  SUM(Quantity) AS QuantitySum\n",
    "FROM OrderDetails\n",
    "GROUP BY ProductID\n",
    "ORDER BY QuantitySum DESC;\n",
    "\n",
    "SELECT\n",
    "  CategoryID,\n",
    "  MAX(Price) AS MaxPrice, \n",
    "  MIN(Price) AS MinPrice,\n",
    "  TRUNCATE((MAX(Price) + MIN(Price)) / 2, 2) AS MedianPrice,\n",
    "  TRUNCATE(AVG(Price), 2) AS AveragePrice\n",
    "FROM Products\n",
    "GROUP BY CategoryID;\n",
    "\n",
    "SELECT \n",
    "  CONCAT_WS(', ', City, Country) AS Location,\n",
    "  COUNT(CustomerID)\n",
    "FROM Customers\n",
    "GROUP BY Country, City;"
   ]
  },
  {
   "cell_type": "code",
   "execution_count": null,
   "metadata": {
    "vscode": {
     "languageId": "sql"
    }
   },
   "outputs": [],
   "source": [
    "-- WITH ROLLUP - 전체의 집계값\n",
    "SELECT\n",
    "  Country, COUNT(*)\n",
    "FROM Suppliers\n",
    "GROUP BY Country\n",
    "WITH ROLLUP;\n",
    "\n",
    "--HAVING - 그룹화된 데이터 걸러내기\n",
    "SELECT\n",
    "  Country, COUNT(*) AS Count\n",
    "FROM Suppliers\n",
    "GROUP BY Country\n",
    "HAVING Count >= 3;\n",
    "\n",
    "-- WHERE는 그룹하기 전 데이터, HAVING은 그룹 후 집계에 사용합니다.\n",
    "SELECT\n",
    "  COUNT(*) AS Count, OrderDate\n",
    "FROM Orders\n",
    "WHERE OrderDate > DATE('1996-12-31')\n",
    "GROUP BY OrderDate\n",
    "HAVING Count > 2;\n",
    "\n",
    "SELECT\n",
    "  CategoryID,\n",
    "  MAX(Price) AS MaxPrice, \n",
    "  MIN(Price) AS MinPrice,\n",
    "  TRUNCATE((MAX(Price) + MIN(Price)) / 2, 2) AS MedianPrice,\n",
    "  TRUNCATE(AVG(Price), 2) AS AveragePrice\n",
    "FROM Products\n",
    "WHERE CategoryID > 2\n",
    "GROUP BY CategoryID\n",
    "HAVING\n",
    "  AveragePrice BETWEEN 20 AND 30\n",
    "  AND MedianPrice < 40;\n"
   ]
  },
  {
   "cell_type": "code",
   "execution_count": null,
   "metadata": {
    "vscode": {
     "languageId": "sql"
    }
   },
   "outputs": [],
   "source": [
    "-- *******************************\n",
    "-- ! 14. DISTINCT - 중복된 값들을 제거합니다.\n",
    "--GROUP BY 와 달리 집계함수가 사용되지 않습니다.\n",
    "--GROUP BY 와 달리 정렬하지 않으므로 더 빠릅니다.\n",
    "\n",
    "SELECT DISTINCT CategoryID\n",
    "FROM Products;\n",
    "-- TODO 위의 GROUP BY를 사용한 쿼리와 결과 비교\n",
    "\n",
    "SELECT COUNT DISTINCT CategoryID\n",
    "FROM Products;\n",
    "-- 오류 발생\n",
    "\n",
    "SELECT DISTINCT Country\n",
    "FROM Customers\n",
    "ORDER BY Country;\n",
    "\n",
    "SELECT DISTINCT Country, City\n",
    "FROM Customers\n",
    "ORDER BY Country, City;\n",
    "\n",
    "--TODO GROUP BY와 DISTINCT 함께 활용하기\n",
    "SELECT\n",
    "  Country,\n",
    "  COUNT(DISTINCT CITY)\n",
    "FROM Customers\n",
    "GROUP BY Country;\n",
    "\n",
    "-- *******************************\n",
    "-- 각종 연산자들"
   ]
  },
  {
   "cell_type": "code",
   "execution_count": null,
   "metadata": {
    "vscode": {
     "languageId": "sql"
    }
   },
   "outputs": [],
   "source": []
  },
  {
   "cell_type": "code",
   "execution_count": null,
   "metadata": {
    "vscode": {
     "languageId": "sql"
    }
   },
   "outputs": [],
   "source": []
  },
  {
   "cell_type": "code",
   "execution_count": null,
   "metadata": {
    "vscode": {
     "languageId": "sql"
    }
   },
   "outputs": [],
   "source": []
  },
  {
   "cell_type": "code",
   "execution_count": null,
   "metadata": {
    "vscode": {
     "languageId": "sql"
    }
   },
   "outputs": [],
   "source": []
  },
  {
   "cell_type": "code",
   "execution_count": null,
   "metadata": {
    "vscode": {
     "languageId": "sql"
    }
   },
   "outputs": [],
   "source": []
  },
  {
   "cell_type": "code",
   "execution_count": null,
   "metadata": {
    "vscode": {
     "languageId": "sql"
    }
   },
   "outputs": [],
   "source": []
  },
  {
   "cell_type": "code",
   "execution_count": null,
   "metadata": {
    "vscode": {
     "languageId": "sql"
    }
   },
   "outputs": [],
   "source": []
  }
 ],
 "metadata": {
  "kernelspec": {
   "display_name": "Python 3.9.6 64-bit",
   "language": "python",
   "name": "python3"
  },
  "language_info": {
   "name": "python",
   "version": "3.9.6"
  },
  "orig_nbformat": 4,
  "vscode": {
   "interpreter": {
    "hash": "31f2aee4e71d21fbe5cf8b01ff0e069b9275f58929596ceb00d14d90e3e16cd6"
   }
  }
 },
 "nbformat": 4,
 "nbformat_minor": 2
}
