{
 "cells": [
  {
   "cell_type": "code",
   "execution_count": null,
   "metadata": {
    "vscode": {
     "languageId": "sql"
    }
   },
   "outputs": [],
   "source": [
    "-- *******************************\n",
    "--! 6. 원하는 별명(alias)으로 데이터 가져오기\n",
    "SELECT\n",
    "  CustomerId AS ID,\n",
    "  CustomerName AS NAME,\n",
    "  Address AS ADDR\n",
    "FROM Customers;\n",
    "--# 데이터 열을 as(~라는 이름으로) 가져오기\n",
    "\n",
    "SELECT\n",
    "  CustomerId AS '아이디',\n",
    "  CustomerName AS '고객명',\n",
    "  Address AS '주소'\n",
    "FROM Customers;\n",
    "\n",
    "--#todo 모두 활용\n",
    "SELECT\n",
    "  CustomerID AS '아이디',\n",
    "  CustomerName AS '고객명',\n",
    "  City AS '도시',\n",
    "  Country AS '국가'\n",
    "FROM Customers\n",
    "WHERE\n",
    "  City = 'London' OR Country = 'Mexico'\n",
    "ORDER BY CustomerName\n",
    "LIMIT 0, 5;\n",
    "--# 아이디, 고객명, 도시, 국가 로 바꾸고(AS) 'london' 과 'mexico' 를 가지고 있고, CustomerName으로 정렬한 후 상위 5개 출력\n"
   ]
  },
  {
   "cell_type": "code",
   "execution_count": null,
   "metadata": {
    "vscode": {
     "languageId": "sql"
    }
   },
   "outputs": [],
   "source": [
    "-- #*******************************\n",
    "--! 7. 사칙연산\n",
    "SELECT 1 + 2;\n",
    "SELECT 5 - 2.5 AS DIFFERENCE;\n",
    "SELECT 3 * (2 + 4) / 2, 'Hello';\n",
    "SELECT 10 % 3;\n",
    "--# 문자열에 사칙연산을 가하면 0으로 인식\n",
    "SELECT 'ABC' + 3;\n",
    "SELECT 'ABC' * 3;\n",
    "SELECT '1' + '002' * 3;\n",
    "\n",
    "SELECT\n",
    "  OrderID + ProductID\n",
    "FROM OrderDetails;\n",
    "--#OrderID 와 ProductID를 더한 값이 나온다\n",
    "\n",
    "SELECT\n",
    "  ProductName,\n",
    "  Price / 2 AS HalfPrice\n",
    "FROM Products;\n",
    "--# price 절반 가격한거를 halfprice 열로 출력 "
   ]
  },
  {
   "cell_type": "code",
   "execution_count": null,
   "metadata": {
    "vscode": {
     "languageId": "sql"
    }
   },
   "outputs": [],
   "source": [
    "--#*******************************\n",
    "--! 8. 참/거짓 관련 연산자\n",
    "SELECT TRUE, FALSE;\n",
    "#todo true 는 1 false 는 0으로 나온다\n",
    "SELECT !TRUE, NOT 1, !FALSE, NOT FALSE;\n",
    "--# 0 0 1 1\n",
    "SELECT 0 = TRUE, 1 = TRUE, 0 = FALSE, 1 = FALSE;\n",
    "--# 0 1 1 0\n",
    "SELECT * FROM Customers WHERE TRUE;\n",
    "--#전체 다 나옴 \n",
    "SELECT * FROM Customers WHERE FALSE;\n",
    "--#아무것도 안 나옴 \n"
   ]
  },
  {
   "cell_type": "code",
   "execution_count": null,
   "metadata": {
    "vscode": {
     "languageId": "sql"
    }
   },
   "outputs": [],
   "source": [
    "\n",
    "--todo IS / IS NOT\n",
    "SELECT TRUE IS TRUE;\n",
    "SELECT TRUE IS NOT FALSE;\n",
    "SELECT (TRUE IS FALSE) IS NOT TRUE;\n",
    "\n",
    "--todo AND && / OR ||\n",
    "SELECT TRUE AND FALSE, TRUE OR FALSE;\n",
    "SELECT 2 + 3 = 6 OR 2 * 3 = 6;\n",
    "--#1 출력\n",
    "SELECT 2 + 3 = 6 AND 2 * 3 = 6;\n",
    "--#0 출력\n",
    "\n",
    "SELECT * FROM Orders\n",
    "WHERE\n",
    "  CustomerId = 15 AND EmployeeId = 4;\n",
    "--#CustomerId 가 15 이면서 동시에, EmployeeId 가 4인 데이터\n",
    "\n",
    "SELECT * FROM Products \n",
    "WHERE\n",
    "  ProductName = 'Tofu' OR CategoryId = 8;\n",
    "  --#Tofu 이거나 동시에, CategoryId 가 8인 데이터\n",
    "\n",
    "\n",
    "SELECT * FROM OrderDetails\n",
    "WHERE\n",
    "  ProductId = 20\n",
    "  AND (OrderId = 10514 OR Quantity = 50);"
   ]
  },
  {
   "cell_type": "code",
   "execution_count": null,
   "metadata": {
    "vscode": {
     "languageId": "sql"
    }
   },
   "outputs": [],
   "source": [
    "\n",
    "--todo = != <> <,> , >=, <=\n",
    "SELECT 1 = 1, !(1 <> 1), NOT (1 < 2), 1 > 0 IS NOT FALSE;\n",
    "SELECT 'A' = 'A', 'A' != 'B', 'A' < 'B', 'A' > 'B';\n",
    "SELECT 'Apple' > 'Banana' OR 1 < 2 IS TRUE;"
   ]
  },
  {
   "cell_type": "code",
   "execution_count": null,
   "metadata": {
    "vscode": {
     "languageId": "sql"
    }
   },
   "outputs": [],
   "source": [
    "\n",
    "--todo 기본 사칙연산자는 대소문자 구분 안함\n",
    "SELECT 'A' = 'a';\n",
    "-- 1 (true)\n",
    "\n",
    "SELECT\n",
    "  ProductName, Price,\n",
    "  Price > 20 AS EXPENSIVE \n",
    "FROM Products;\n",
    "-- price가 20이 넘는가에 따라 expensive 열에 true(1) / false(0) 이 새겨진다.\n",
    "\n",
    "SELECT\n",
    "  ProductName, Price,\n",
    "  NOT Price > 20 AS CHEAP \n",
    "FROM Products;"
   ]
  },
  {
   "cell_type": "code",
   "execution_count": null,
   "metadata": {
    "vscode": {
     "languageId": "sql"
    }
   },
   "outputs": [],
   "source": [
    "-- #todo Between A AND B\n",
    "SELECT 5 BETWEEN 1 AND 10;\n",
    "-- true(1)\n",
    "\n",
    "SELECT 'banana' NOT BETWEEN 'Apple' AND 'camera';\n",
    "-- b는 a와 c 사이에 있으므로, NOT BETWEEN 은 false\n",
    "\n",
    "SELECT * FROM OrderDetails\n",
    "WHERE ProductID BETWEEN 1 AND 4;\n",
    "\n",
    "SELECT * FROM Customers\n",
    "WHERE CustomerName BETWEEN 'b' AND 'c';"
   ]
  },
  {
   "cell_type": "code",
   "execution_count": null,
   "metadata": {
    "vscode": {
     "languageId": "sql"
    }
   },
   "outputs": [],
   "source": [
    "\n",
    "-- #todo IN / NOT IN\n",
    "SELECT 1 + 2 IN (2, 3, 4) \n",
    "-- true(1)\n",
    "\n",
    "SELECT 'Hello' IN (1, TRUE, 'hello')\n",
    "-- true(1)\n",
    "\n",
    "SELECT * FROM Customers\n",
    "WHERE City IN ('Torino', 'Paris', 'Portland', 'Madrid') "
   ]
  },
  {
   "cell_type": "code",
   "execution_count": null,
   "metadata": {
    "vscode": {
     "languageId": "sql"
    }
   },
   "outputs": [],
   "source": [
    "\n",
    "-- #todo LIKE\n",
    "--like 옆에 문자와 비슷하게 생겼는지 물어보는 코드\n",
    "SELECT\n",
    "  'HELLO' LIKE 'hel%', #1(true)\n",
    "  'HELLO' LIKE 'H%', #1(true)\n",
    "  'HELLO' LIKE 'H%O', #1(true)\n",
    "  'HELLO' LIKE '%O', #1(true)\n",
    "  'HELLO' LIKE '%HELLO%', #1(true)\n",
    "  'HELLO' LIKE '%H', #0(False)\n",
    "  'HELLO' LIKE 'L%' #0(False)\n",
    "\n",
    "SELECT\n",
    "  'HELLO' LIKE 'HEL__', #1(true)\n",
    "  'HELLO' LIKE 'h___O', #1(true)  소문자여도 가능\n",
    "  'HELLO' LIKE 'HE_LO', #1(true)\n",
    "  'HELLO' LIKE '_____', #1(true)\n",
    "  'HELLO' LIKE '_HELLO', #0(False)  앞에 문자 없음\n",
    "  'HELLO' LIKE 'HEL_', #0(False)  공백이 두자리 필요한데 한자리만\n",
    "  'HELLO' LIKE 'H_O' #0(False)  공백이 부족\n",
    "\n",
    "SELECT * FROM Employees\n",
    "WHERE Notes LIKE '%economics%'\n",
    "--notes 에 economics가 있는 데이터 뽑아오기\n",
    "\n",
    "SELECT * FROM OrderDetails\n",
    "WHERE OrderID LIKE '1025_'\n",
    "--OrderID 에 1025_ 가 있는 데이터 뽑아오기\n",
    "-- 숫자로 구성된 문자열은 숫자로 자동인식\n"
   ]
  }
 ],
 "metadata": {
  "kernelspec": {
   "display_name": "Python 3.9.6 64-bit",
   "language": "python",
   "name": "python3"
  },
  "language_info": {
   "name": "python",
   "version": "3.9.6"
  },
  "orig_nbformat": 4,
  "vscode": {
   "interpreter": {
    "hash": "31f2aee4e71d21fbe5cf8b01ff0e069b9275f58929596ceb00d14d90e3e16cd6"
   }
  }
 },
 "nbformat": 4,
 "nbformat_minor": 2
}
