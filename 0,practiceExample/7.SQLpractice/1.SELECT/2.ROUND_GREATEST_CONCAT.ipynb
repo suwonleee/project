{
 "cells": [
  {
   "cell_type": "code",
   "execution_count": null,
   "metadata": {
    "vscode": {
     "languageId": "sql"
    }
   },
   "outputs": [],
   "source": [
    "--# *******************************\n",
    "-- #! 9 숫자와 관련된 함수들\n",
    "-- # todo 반올림 / 올림 / 내림\n",
    "SELECT \n",
    "  ROUND(0.5),  #반올림\n",
    "  CEIL(0.4),  #올림\n",
    "  FLOOR(0.6);  #내림\n",
    "\n",
    "SELECT \n",
    "  Price,\n",
    "  ROUND(price), # 반올림 된 새로운 열\n",
    "  CEIL(price), #올림 된 새로운 열\n",
    "  FLOOR(price) #내림 된 새로운 열\n",
    "FROM Products;\n",
    "\n",
    "\n",
    "-- # todo 절대값\n",
    "SELECT ABS(1), ABS(-1), ABS(3 - 10); #절대값\n",
    "--#1 1 7\n",
    "\n",
    "SELECT * FROM OrderDetails\n",
    "WHERE ABS(Quantity - 10) < 5;"
   ]
  },
  {
   "cell_type": "code",
   "execution_count": null,
   "metadata": {
    "vscode": {
     "languageId": "sql"
    }
   },
   "outputs": [],
   "source": [
    "\n",
    "-- #todo 최댓값 최솟값\n",
    "SELECT \n",
    "  GREATEST(1, 2, 3), #최댓값 3\n",
    "  LEAST(1, 2, 3, 4, 5);  #최솟값 1\n",
    "\n",
    "SELECT\n",
    "  OrderDetailID, ProductID, Quantity,\n",
    "  GREATEST(OrderDetailID, ProductID, Quantity), #최댓값 새로운 행 \n",
    "  LEAST(OrderDetailID, ProductID, Quantity)  #최솟값 새로운 행 \n",
    "FROM OrderDetails;"
   ]
  },
  {
   "cell_type": "code",
   "execution_count": null,
   "metadata": {
    "vscode": {
     "languageId": "sql"
    }
   },
   "outputs": [],
   "source": [
    "\n",
    "-- #todo 큰 값, 작은 값, 갯수, 총합, 평균값\n",
    "SELECT\n",
    "  MAX(Quantity), #가장 큰 값\n",
    "  MIN(Quantity),#가장 작은 값\n",
    "  COUNT(Quantity), #갯수 null값 제외\n",
    "  SUM(Quantity), #총합\n",
    "  AVG(Quantity)  #평균 값 \n",
    "FROM OrderDetails\n",
    "WHERE OrderDetailID BETWEEN 20 AND 30; #OrderDetailID 중 20 ~ 30 사이 값."
   ]
  },
  {
   "cell_type": "code",
   "execution_count": null,
   "metadata": {
    "vscode": {
     "languageId": "sql"
    }
   },
   "outputs": [],
   "source": [
    "\n",
    "-- #todo 제곱 / 제곱근\n",
    "SELECT\n",
    "  POW(2, 3), #8\n",
    "  POWER(5, 2), #25\n",
    "  SQRT(16); #4"
   ]
  },
  {
   "cell_type": "code",
   "execution_count": null,
   "metadata": {
    "vscode": {
     "languageId": "sql"
    }
   },
   "outputs": [],
   "source": [
    "\n",
    "-- #todo 소숫점 n자리까지 선택\n",
    "SELECT\n",
    "  TRUNCATE(1234.5678, 1), #1234.5\n",
    "  TRUNCATE(1234.5678, 2), #1234.56\n",
    "  TRUNCATE(1234.5678, 3), #1234.567\n",
    "  TRUNCATE(1234.5678, -1), #1230\n",
    "  TRUNCATE(1234.5678, -2), #1200\n",
    "  TRUNCATE(1234.5678, -3); #1000"
   ]
  },
  {
   "cell_type": "code",
   "execution_count": null,
   "metadata": {
    "vscode": {
     "languageId": "sql"
    }
   },
   "outputs": [],
   "source": [
    "-- #*******************************\n",
    "-- #! 10. 문자열 관련 함수들\n",
    "\n",
    "-- #todo 대문자로, 소문자로\n",
    "SELECT\n",
    "  UPPER('abcDEF'), #ABCDEF\n",
    "  LOWER('abcDEF'); #abcdef\n",
    "\n",
    "SELECT\n",
    "  UCASE(CustomerName),\n",
    "  LCASE(ContactName)\n",
    "FROM Customers;\n",
    "-- # CustomerName은 대문자, ContactName는 소문자로"
   ]
  },
  {
   "cell_type": "code",
   "execution_count": null,
   "metadata": {
    "vscode": {
     "languageId": "sql"
    }
   },
   "outputs": [],
   "source": [
    "\n",
    "-- #todo 괄호 안 내용 이어붙이기\n",
    "SELECT CONCAT('HELLO', ' ', 'THIS IS ', 2021)\n",
    "SELECT CONCAT_WS('-', 2021, 8, 15, 'AM') #CONCAT_WS는 -로 각 문장을 이어붙이는 것 ex) 2021-8-15-AM\n",
    "SELECT CONCAT('O-ID: ', OrderID) FROM Orders;\n",
    "SELECT\n",
    "-- #CONCAT_WS(' ', FirstName, LastName) AS FullName # FirstName 과 LastName 사이에 ' '공백을 넣어서 Fullname 열을 새로 만들어주기.\n",
    "FROM Employees;\n"
   ]
  },
  {
   "cell_type": "code",
   "execution_count": null,
   "metadata": {
    "vscode": {
     "languageId": "sql"
    }
   },
   "outputs": [],
   "source": [
    "\n",
    "-- #todo 문자열 자름, 왼쪽부터, 오른쪽부터\n",
    "SELECT\n",
    "  SUBSTR('ABCDEFG', 3), #CDEFG\n",
    "  SUBSTR('ABCDEFG', 3, 2), #CD\t\n",
    "  SUBSTR('ABCDEFG', -4), #DEFG\n",
    "  SUBSTR('ABCDEFG', -4, 2); #DE\n",
    "\n",
    "SELECT\n",
    "  LEFT('ABCDEFG', 3), #ABC\n",
    "  RIGHT('ABCDEFG', 3); #EFG\n",
    "\n",
    "SELECT\n",
    "  OrderDate,\n",
    "  LEFT(OrderDate, 4) AS Year, #1997 같은 연도\n",
    "  SUBSTR(OrderDate, 6, 2) AS #07 05 같은 월\n",
    "  RIGHT(OrderDate, 2) AS Day #04 05 12 같은 날짜.\n",
    "FROM Orders;"
   ]
  },
  {
   "cell_type": "code",
   "execution_count": null,
   "metadata": {
    "vscode": {
     "languageId": "sql"
    }
   },
   "outputs": [],
   "source": [
    "\n",
    "--#todo 문자열 바이트 길이, 문자 길이\n",
    "SELECT\n",
    "  LENGTH('ABCDE'),  #5\n",
    "  CHAR_LENGTH('ABCDE'),  #5\n",
    "  CHARACTER_LENGTH('ABCDE');  #5\n",
    "\n",
    "SELECT\n",
    "  LENGTH('안녕하세요'), #15\n",
    "  CHAR_LENGTH('안녕하세요'), #5\n",
    "  CHARACTER_LENGTH('안녕하세요'); #5\n"
   ]
  },
  {
   "cell_type": "code",
   "execution_count": null,
   "metadata": {
    "vscode": {
     "languageId": "sql"
    }
   },
   "outputs": [],
   "source": [
    "\n",
    "-- #todo 공백 제거\n",
    "SELECT\n",
    "  CONCAT('|', ' HELLO ', '|'),\n",
    "  CONCAT('|', LTRIM(' HELLO '), '|'),\n",
    "  CONCAT('|', RTRIM(' HELLO '), '|'),\n",
    "  CONCAT('|', TRIM(' HELLO '), '|');\n",
    "\n",
    "SELECT * FROM Categories\n",
    "WHERE CategoryName = ' Beverages '\n",
    "-- #결과 없음\n",
    "\n",
    "SELECT * FROM Categories\n",
    "WHERE CategoryName = TRIM(' Beverages ')\n",
    "-- #결과 나옴"
   ]
  },
  {
   "cell_type": "code",
   "execution_count": null,
   "metadata": {
    "vscode": {
     "languageId": "sql"
    }
   },
   "outputs": [],
   "source": [
    "\n",
    "--#todo 자릿수 채워넣기\n",
    "SELECT\n",
    "  LPAD('ABC', 5, '-'), -- #--ABC\t\n",
    "  RPAD('ABC', 5, '-'); -- #ABC--\n",
    "\n",
    "SELECT\n",
    "  LPAD(SupplierID, 5, 0), --# SupplierID를 불러와서 5자리로 만들기, 자릿수에 안 맞는다면 0으로 채워넣기.\n",
    "  RPAD(Price, 6, 0)\n",
    "FROM Products;"
   ]
  },
  {
   "cell_type": "code",
   "execution_count": null,
   "metadata": {
    "vscode": {
     "languageId": "sql"
    }
   },
   "outputs": [],
   "source": [
    "\n",
    "--#todo 대체 A 에서 B를 C로 변경\n",
    "SELECT\n",
    "  REPLACE('맥도날드에서 맥도날드 햄버거를 먹었다.', '맥도날드', '버거킹');\n",
    "  --#맥도날드를 버거킹으로 교체\n",
    "  --#버거킹에서 버거킹 햄버거를 먹었다.\n",
    "SELECT\n",
    "  REPLACE(Description, ', ', ' and ')\n",
    "FROM Categories;\n",
    "--#, 를 and로 교체"
   ]
  },
  {
   "cell_type": "code",
   "execution_count": null,
   "metadata": {
    "vscode": {
     "languageId": "sql"
    }
   },
   "outputs": [],
   "source": [
    "-- todo STR 안에 문자 확인 , 없을 시 0\n",
    "SELECT\n",
    "  INSTR('ABCDE', 'ABC'), --1\n",
    "  INSTR('ABCDE', 'BCDE'), --2\n",
    "  INSTR('ABCDE', 'C'), --3\n",
    "  INSTR('ABCDE', 'DE'), --4\n",
    "  INSTR('ABCDE', 'F'); --0\n",
    "\n",
    "SELECT * FROM Customers\n",
    "WHERE INSTR(CustomerName, ' ') BETWEEN 1 AND 6;\n",
    "-- < first name이 한글자부터 다섯글자까지 이신 분들"
   ]
  },
  {
   "cell_type": "code",
   "execution_count": null,
   "metadata": {
    "vscode": {
     "languageId": "sql"
    }
   },
   "outputs": [],
   "source": [
    "--todo A를 B 자료형으로 변환\n",
    "SELECT\n",
    "  '01' = '1',\n",
    "  CONVERT('01', DECIMAL) = CONVERT('1', DECIMAL);\n"
   ]
  }
 ],
 "metadata": {
  "kernelspec": {
   "display_name": "Python 3.9.6 64-bit",
   "language": "python",
   "name": "python3"
  },
  "language_info": {
   "name": "python",
   "version": "3.9.6"
  },
  "orig_nbformat": 4,
  "vscode": {
   "interpreter": {
    "hash": "31f2aee4e71d21fbe5cf8b01ff0e069b9275f58929596ceb00d14d90e3e16cd6"
   }
  }
 },
 "nbformat": 4,
 "nbformat_minor": 2
}
