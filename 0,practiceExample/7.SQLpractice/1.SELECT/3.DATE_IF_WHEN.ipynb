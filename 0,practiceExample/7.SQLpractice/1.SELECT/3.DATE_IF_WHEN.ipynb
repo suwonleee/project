{
 "cells": [
  {
   "cell_type": "code",
   "execution_count": null,
   "metadata": {
    "vscode": {
     "languageId": "sql"
    }
   },
   "outputs": [],
   "source": [
    "-- *******************************\n",
    "--! 11. 시간/날짜 관련 함수들\n",
    "\n",
    "--todo 현재 날짜, 시간을 반환하기\n",
    "SELECT CURDATE(), CURTIME(), NOW();\n",
    "--현재 시간과 날짜를 표시\n",
    "\n",
    "--todo 문자열에 따라 날짜, 시간 생성\n",
    "SELECT\n",
    "  '2021-6-1' = '2021-06-01', -- 0\n",
    "  DATE('2021-6-1') = DATE('2021-06-01'), -- 1\n",
    "  '1:2:3' = '01:02:03', -- 0\n",
    "  TIME('1:2:3') = TIME('01:02:03'); -- 1\n",
    "\n",
    "SELECT\n",
    "  '2021-6-1 1:2:3' = '2021-06-01 01:02:03', -- 0\n",
    "  DATE('2021-6-1 1:2:3') = DATE('2021-06-01 01:02:03'), -- 1\n",
    "  TIME('2021-6-1 1:2:3') = TIME('2021-06-01 01:02:03'), -- 1\n",
    "  DATE('2021-6-1 1:2:3') = TIME('2021-06-01 01:02:03'), -- 0\n",
    "  DATE('2021-6-1') = DATE('2021-06-01 01:02:03'), -- 1\n",
    "  TIME('2021-6-1 1:2:3') = TIME('01:02:03'); -- 1\n",
    "\n",
    "SELECT * FROM Orders\n",
    "WHERE\n",
    "  OrderDate BETWEEN DATE('1997-1-1') AND DATE('1997-1-31');\n",
    "  --1월 1일부터 31일까지 날짜인 데이터 추출"
   ]
  },
  {
   "cell_type": "code",
   "execution_count": null,
   "metadata": {
    "vscode": {
     "languageId": "sql"
    }
   },
   "outputs": [],
   "source": [
    "--todo DATETIME의 정보 반환\n",
    "SELECT\n",
    "  OrderDate,\n",
    "  YEAR(OrderDate) AS YEAR, --연도 반환\n",
    "  MONTHNAME(OrderDate) AS MONTHNAME, --월 반환\n",
    "  MONTH(OrderDate) AS MONTH,\n",
    "  WEEKDAY(OrderDate) AS WEEKDAY, --주 반환\n",
    "  DAYNAME(OrderDate) AS DAYNAME, --요일명 반환\n",
    "  DAY(OrderDate) AS DAY --날짜 반환\n",
    "FROM Orders;\n",
    "\n",
    "SELECT\n",
    "  OrderDate,\n",
    "  CONCAT(\n",
    "    CONCAT_WS(\n",
    "      '/',\n",
    "      YEAR(OrderDate), MONTH(OrderDate), DAY(OrderDate)\n",
    "    ),\n",
    "    ' ',\n",
    "    UPPER(LEFT(DAYNAME(OrderDate), 3))\n",
    "  )\n",
    "FROM Orders;\n",
    "\n",
    "SELECT * FROM Orders\n",
    "WHERE WEEKDAY(OrderDate) = 0;\n",
    "\n"
   ]
  },
  {
   "cell_type": "code",
   "execution_count": null,
   "metadata": {
    "vscode": {
     "languageId": "sql"
    }
   },
   "outputs": [],
   "source": [
    "--todo 주어진 DATETIME의 시 분 초 반환\n",
    "SELECT\n",
    "  HOUR(NOW()), MINUTE(NOW()), SECOND(NOW());\n",
    "\n",
    "--todo 시간/ 날짜 더하기 , 빼기 \n",
    "SELECT \n",
    "  ADDDATE('2021-06-20', INTERVAL 1 YEAR),\n",
    "  ADDDATE('2021-06-20', INTERVAL -2 MONTH),\n",
    "  ADDDATE('2021-06-20', INTERVAL 3 WEEK),\n",
    "  ADDDATE('2021-06-20', INTERVAL -4 DAY),\n",
    "  ADDDATE('2021-06-20', INTERVAL -5 MINUTE),\n",
    "  ADDDATE('2021-06-20 13:01:12', INTERVAL 6 SECOND);"
   ]
  },
  {
   "cell_type": "code",
   "execution_count": null,
   "metadata": {
    "vscode": {
     "languageId": "sql"
    }
   },
   "outputs": [],
   "source": [
    "SELECT\n",
    "  OrderDate,\n",
    "  ADDDATE(OrderDate, INTERVAL 1 YEAR),\n",
    "  ADDDATE(OrderDate, INTERVAL -2 MONTH),\n",
    "  ADDDATE(OrderDate, INTERVAL 3 WEEK),\n",
    "  ADDDATE(OrderDate, INTERVAL -4 DAY),\n",
    "  ADDDATE(OrderDate, INTERVAL -5 MINUTE)\n",
    "FROM Orders;"
   ]
  },
  {
   "cell_type": "code",
   "execution_count": null,
   "metadata": {
    "vscode": {
     "languageId": "sql"
    }
   },
   "outputs": [],
   "source": [
    "--todo 두 시간 / 날짜간 일수, 시간차\n",
    "SELECT\n",
    "  OrderDate,\n",
    "  NOW(),\n",
    "  DATEDIFF(OrderDate, NOW())\n",
    "FROM Orders;\n",
    "\n",
    "SELECT\n",
    "  TIMEDIFF('2021-06-21 15:20:35', '2021-06-21 16:34:41');\n",
    "\n",
    "\n",
    "SELECT * FROM Orders\n",
    "WHERE\n",
    "  ABS(DATEDIFF(OrderDate, '1996-10-10')) < 5;"
   ]
  },
  {
   "cell_type": "code",
   "execution_count": null,
   "metadata": {
    "vscode": {
     "languageId": "sql"
    }
   },
   "outputs": [],
   "source": [
    "\n",
    "--todo 해당 달의 마지막 날짜.\n",
    "SELECT\n",
    "  OrderDate,\n",
    "  LAST_DAY(OrderDate),\n",
    "  DAY(LAST_DAY(OrderDate)),\n",
    "  DATEDIFF(LAST_DAY(OrderDate), OrderDate)\n",
    "FROM Orders;"
   ]
  },
  {
   "cell_type": "code",
   "execution_count": null,
   "metadata": {
    "vscode": {
     "languageId": "sql"
    }
   },
   "outputs": [],
   "source": [
    "--todo 시간/날짜를 지정한 형식으로 반환\n",
    "SELECT\n",
    "  DATE_FORMAT(NOW(), '%M %D, %Y %T'), --월, 일, 연도4자리, hh:mm:ss\n",
    "  DATE_FORMAT(NOW(), '%y-%m-%d %h:%i:%s %p'),\n",
    "  DATE_FORMAT(NOW(), '%Y년 %m월 %d일 %p %h시 %i분 %s초');\n",
    "\n",
    "SELECT REPLACE(\n",
    "  REPLACE(\n",
    "    DATE_FORMAT(NOW(), '%Y년 %m월 %d일 %p %h시 %i분 %초'),\n",
    "    'AM', '오전'\n",
    "  ),\n",
    "  'PM', '오후'\n",
    ")"
   ]
  },
  {
   "cell_type": "code",
   "execution_count": null,
   "metadata": {
    "vscode": {
     "languageId": "sql"
    }
   },
   "outputs": [],
   "source": [
    "--todo 날짜 s를 f 형식으로 해석하여 시간/ 날짜 생성\n",
    "SELECT\n",
    "  DATEDIFF(\n",
    "    STR_TO_DATE('2021-06-04 07:48:52', '%Y-%m-%d %T'),\n",
    "    STR_TO_DATE('2021-06-01 12:30:05', '%Y-%m-%d %T')\n",
    "  ),\n",
    "  TIMEDIFF(\n",
    "    STR_TO_DATE('2021-06-04 07:48:52', '%Y-%m-%d %T'),\n",
    "    STR_TO_DATE('2021-06-01 12:30:05', '%Y-%m-%d %T')\n",
    "  );\n"
   ]
  },
  {
   "cell_type": "code",
   "execution_count": null,
   "metadata": {
    "vscode": {
     "languageId": "sql"
    }
   },
   "outputs": [],
   "source": [
    "SELECT\n",
    "  OrderDate,\n",
    "  DATEDIFF(\n",
    "    STR_TO_DATE('1997-01-01 13:24:35', '%Y-%m-%d %T'),\n",
    "    OrderDate\n",
    "  ),\n",
    "  TIMEDIFF(\n",
    "    STR_TO_DATE('1997-01-01 13:24:35', '%Y-%m-%d %T'),\n",
    "    STR_TO_DATE(CONCAT(OrderDate, ' ', '00:00:00'), '%Y-%m-%d %T')\n",
    "  )\n",
    "FROM Orders;"
   ]
  },
  {
   "cell_type": "code",
   "execution_count": null,
   "metadata": {
    "vscode": {
     "languageId": "sql"
    }
   },
   "outputs": [],
   "source": [
    "-- *******************************\n",
    "-- ! 12. 기타 함수들\n",
    "\n",
    "--todo 조건이 참이라면 T, 거짓이라면 F 반환\n",
    "SELECT IF (1 > 2, '1는 2보다 크다.', '1은 2보다 작다.');\n",
    "\n",
    "--CASE\n",
    "SELECT\n",
    "CASE\n",
    "  WHEN -1 > 0 THEN '-1은 양수다.'\n",
    "  WHEN -1 = 0 THEN '-1은 0이다.'\n",
    "  ELSE '-1은 음수다.'\n",
    "END;\n",
    "\n",
    "SELECT\n",
    "  Price,\n",
    "  IF (Price > 30, 'Expensive', 'Cheap'),\n",
    "  CASE\n",
    "    WHEN Price < 20 THEN '저가'\n",
    "    WHEN Price BETWEEN 20 AND 30 THEN '일반'\n",
    "    ELSE '고가'\n",
    "  END\n",
    "FROM Products;\n",
    "\n",
    "--todo A가 null일 때 B출력\n",
    "SELECT\n",
    "  IFNULL('A', 'B'),\n",
    "  IFNULL(NULL, 'B');\n"
   ]
  }
 ],
 "metadata": {
  "kernelspec": {
   "display_name": "Python 3.9.6 64-bit",
   "language": "python",
   "name": "python3"
  },
  "language_info": {
   "name": "python",
   "version": "3.9.6"
  },
  "orig_nbformat": 4,
  "vscode": {
   "interpreter": {
    "hash": "31f2aee4e71d21fbe5cf8b01ff0e069b9275f58929596ceb00d14d90e3e16cd6"
   }
  }
 },
 "nbformat": 4,
 "nbformat_minor": 2
}
