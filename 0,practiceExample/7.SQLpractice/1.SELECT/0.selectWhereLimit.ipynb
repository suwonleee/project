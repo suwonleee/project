{
 "cells": [
  {
   "cell_type": "markdown",
   "metadata": {},
   "source": [
    "https://www.w3schools.com/mysql/trymysql.asp?filename=trysql_select_all 실습 링크"
   ]
  },
  {
   "cell_type": "code",
   "execution_count": null,
   "metadata": {
    "vscode": {
     "languageId": "sql"
    }
   },
   "outputs": [],
   "source": [
    "--! 1. 테이블의 모든 내용 보기\n",
    "SELECT * FROM Customers;"
   ]
  },
  {
   "cell_type": "code",
   "execution_count": null,
   "metadata": {
    "vscode": {
     "languageId": "sql"
    }
   },
   "outputs": [],
   "source": [
    "-- *******************************\n",
    "--! 2. 원하는 column(열)만 골라서 보기\n",
    "SELECT CustomerName FROM Customers;\n",
    "SELECT CustomerName, ContactName, Country FROM Customers;\n",
    "\n",
    "-- 테이블의 컬럼이 아닌 값도 선택할 수 있다.\n",
    "SELECT\n",
    "  CustomerName, 1, 'Hello', NULL\n",
    "FROM Customers;"
   ]
  },
  {
   "cell_type": "code",
   "execution_count": null,
   "metadata": {
    "vscode": {
     "languageId": "sql"
    }
   },
   "outputs": [],
   "source": [
    "-- *******************************\n",
    "-- ! 3. 원하는 조건의 row(행)만 걸러서 보기\n",
    "SELECT * FROM Orders\n",
    "WHERE EmployeeID = 3;\n",
    "\n",
    "SELECT * FROM OrderDetails \n",
    "WHERE Quantity < 5;\n",
    "--# Quantity가 5 이하인 데이터 가져오기"
   ]
  },
  {
   "cell_type": "code",
   "execution_count": null,
   "metadata": {
    "vscode": {
     "languageId": "sql"
    }
   },
   "outputs": [],
   "source": [
    "-- *******************************\n",
    "-- ! 4. 원하는 순서로 데이터 가져오기\n",
    "SELECT * FROM Customers\n",
    "ORDER BY ContactName;\n",
    "--# contactName 정렬 순서대로 가져오게 된다.\n",
    "\n",
    "SELECT * FROM OrderDetails\n",
    "ORDER BY ProductID ASC, Quantity DESC;\n",
    "--#ProductID 는 오름차순, Quantity 는 내림차순으로 가져오기"
   ]
  },
  {
   "cell_type": "code",
   "execution_count": null,
   "metadata": {
    "vscode": {
     "languageId": "sql"
    }
   },
   "outputs": [],
   "source": [
    "-- *******************************\n",
    "-- ! 5. 원하는 만큼만 데이터 가져오기\n",
    "SELECT * FROM Customers\n",
    "LIMIT 10;\n",
    "--밑 코드와 동일\n",
    "\n",
    "SELECT * FROM Customers\n",
    "LIMIT 0, 10;\n",
    "--처음부터 10개 가져오기\n",
    "\n",
    "SELECT * FROM Customers\n",
    "LIMIT 30, 10;\n",
    "--#30번째 부터 10개 가져오기"
   ]
  }
 ],
 "metadata": {
  "kernelspec": {
   "display_name": "Python 3.9.6 64-bit",
   "language": "python",
   "name": "python3"
  },
  "language_info": {
   "name": "python",
   "version": "3.9.6"
  },
  "orig_nbformat": 4,
  "vscode": {
   "interpreter": {
    "hash": "31f2aee4e71d21fbe5cf8b01ff0e069b9275f58929596ceb00d14d90e3e16cd6"
   }
  }
 },
 "nbformat": 4,
 "nbformat_minor": 2
}
