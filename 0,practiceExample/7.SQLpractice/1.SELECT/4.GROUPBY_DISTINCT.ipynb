{
 "cells": [
  {
   "cell_type": "code",
   "execution_count": null,
   "metadata": {
    "vscode": {
     "languageId": "sql"
    }
   },
   "outputs": [],
   "source": [
    "-- *******************************\n",
    "-- ! 13. GROUP BY - 조건에 따라 집계된 값을 가져옵니다.\n",
    "SELECT Country FROM Customers\n",
    "GROUP BY Country;\n",
    "--모든 country라는 그룹을 묶어줄 수 있다.\n",
    "--어떤 값 종류가 들어있는지 확인하기 편할듯!\n",
    "\n",
    "SELECT CategoryID FROM Products\n",
    "GROUP BY CategoryID;\n",
    "--CategoryID 에는 어떤 값이 있는지 확인 가능\n",
    "\n",
    "--todo 여러 컬럼을 기준으로 그룹화할 수도 있습니다.\n",
    "SELECT \n",
    "  Country, City,\n",
    "  CONCAT_WS(', ', City, Country)\n",
    "FROM Customers\n",
    "GROUP BY Country, City;\n",
    "-- 칼럼 + 칼럼 기준으로 묶을 수 있다.\n",
    "--ex ) Paris, France / \tStrasbourg, France\n"
   ]
  },
  {
   "cell_type": "code",
   "execution_count": null,
   "metadata": {
    "vscode": {
     "languageId": "sql"
    }
   },
   "outputs": [],
   "source": [
    "--todo 그룹 함수 활용하기\n",
    "SELECT\n",
    "  COUNT(*), OrderDate\n",
    "FROM Orders\n",
    "GROUP BY OrderDate;\n",
    "--COUNT로 OrderDate에 해당하는 사람이 몇명인지 볼 수 있다.\n",
    "-- ex) 총 데이터 중 1996-07-08 출신은 2명 있다.\n",
    "\n",
    "SELECT\n",
    "  ProductID,\n",
    "  SUM(Quantity) AS QuantitySum\n",
    "FROM OrderDetails\n",
    "GROUP BY ProductID\n",
    "ORDER BY QuantitySum DESC;\n",
    "--SUM 으로 ProductID 60은 총 합이 1577인걸 확인할 수 있다.\n",
    "\n",
    "SELECT\n",
    "  CategoryID,\n",
    "  MAX(Price) AS MaxPrice, \n",
    "  MIN(Price) AS MinPrice,\n",
    "  TRUNCATE((MAX(Price) + MIN(Price)) / 2, 2) AS MedianPrice,\n",
    "  TRUNCATE(AVG(Price), 2) AS AveragePrice\n",
    "FROM Products\n",
    "GROUP BY CategoryID;\n",
    "\n",
    "SELECT \n",
    "  CONCAT_WS(', ', City, Country) AS Location,\n",
    "  COUNT(CustomerID)\n",
    "FROM Customers\n",
    "GROUP BY Country, City;\n",
    "-- city와 country를 합쳐준 후 세어줄 수 있다.\n",
    "--Paris, France 에 사는 사람은 2명이다."
   ]
  },
  {
   "cell_type": "code",
   "execution_count": null,
   "metadata": {
    "vscode": {
     "languageId": "sql"
    }
   },
   "outputs": [],
   "source": [
    "-- WITH ROLLUP - 전체의 집계값\n",
    "SELECT\n",
    "  Country, COUNT(*)\n",
    "FROM Suppliers\n",
    "GROUP BY Country\n",
    "WITH ROLLUP;\n",
    "--count 해준 전체 집계값\n",
    "\n",
    "--HAVING - 그룹화된 데이터 걸러내기\n",
    "SELECT\n",
    "  Country, COUNT(*) AS Count\n",
    "FROM Suppliers\n",
    "GROUP BY Country\n",
    "HAVING Count >= 3;\n",
    "--France\t3 명 사는 것으로 확인할 수 있다. 즉, 조건 걸어서 확인 가능\n",
    "\n",
    "-- WHERE는 그룹하기 전 데이터, HAVING은 그룹 후 집계에 사용합니다.\n",
    "SELECT\n",
    "  COUNT(*) AS Count, OrderDate\n",
    "FROM Orders\n",
    "WHERE OrderDate > DATE('1996-12-31')\n",
    "GROUP BY OrderDate\n",
    "HAVING Count > 2;\n",
    "--WHERE를 통해 97년생 이후 부터 생년월일 날짜 겹치는 사람을 확인해볼 수 있다.\n",
    "--3\t1997-12-16 3명이 겹친다. \n",
    "\n",
    "SELECT\n",
    "  CategoryID,\n",
    "  MAX(Price) AS MaxPrice, \n",
    "  MIN(Price) AS MinPrice,\n",
    "  TRUNCATE((MAX(Price) + MIN(Price)) / 2, 2) AS MedianPrice,\n",
    "  TRUNCATE(AVG(Price), 2) AS AveragePrice\n",
    "FROM Products\n",
    "-- 먼저, 해당 범위를 걸어주기\n",
    "WHERE CategoryID > 2\n",
    "GROUP BY CategoryID\n",
    "-- 해당 조건 값 걸어주기\n",
    "HAVING\n",
    "  AveragePrice BETWEEN 20 AND 30\n",
    "  AND MedianPrice < 40;\n"
   ]
  },
  {
   "cell_type": "code",
   "execution_count": null,
   "metadata": {
    "vscode": {
     "languageId": "sql"
    }
   },
   "outputs": [],
   "source": [
    "-- *******************************\n",
    "-- ! 14. DISTINCT - 중복된 값들을 제거합니다.\n",
    "--GROUP BY 와 달리 집계함수가 사용되지 않습니다.\n",
    "--GROUP BY 와 달리 --! 정렬하지 않으므로 더 빠릅니다.\n",
    "\n",
    "SELECT DISTINCT CategoryID\n",
    "FROM Products;\n",
    "-- TODO 위의 GROUP BY를 사용한 쿼리와 결과 비교\n",
    "\n",
    "SELECT COUNT DISTINCT CategoryID\n",
    "FROM Products;\n",
    "-- 오류 발생\n",
    "--집계를 하지 않기 때문에\n",
    "\n",
    "SELECT DISTINCT Country\n",
    "FROM Customers\n",
    "ORDER BY Country;\n",
    "\n",
    "SELECT DISTINCT Country, City\n",
    "FROM Customers\n",
    "ORDER BY Country, City;\n",
    "\n",
    "--TODO GROUP BY와 DISTINCT 함께 활용하기\n",
    "SELECT\n",
    "  Country,\n",
    "  COUNT(DISTINCT CITY)\n",
    "FROM Customers\n",
    "GROUP BY Country;\n",
    "\n",
    "-- *******************************\n",
    "-- 각종 연산자들"
   ]
  },
  {
   "cell_type": "code",
   "execution_count": null,
   "metadata": {
    "vscode": {
     "languageId": "sql"
    }
   },
   "outputs": [],
   "source": []
  }
 ],
 "metadata": {
  "kernelspec": {
   "display_name": "Python 3.9.6 64-bit",
   "language": "python",
   "name": "python3"
  },
  "language_info": {
   "name": "python",
   "version": "3.9.6"
  },
  "orig_nbformat": 4,
  "vscode": {
   "interpreter": {
    "hash": "31f2aee4e71d21fbe5cf8b01ff0e069b9275f58929596ceb00d14d90e3e16cd6"
   }
  }
 },
 "nbformat": 4,
 "nbformat_minor": 2
}
