{
 "cells": [
  {
   "cell_type": "code",
   "execution_count": null,
   "metadata": {
    "vscode": {
     "languageId": "sql"
    }
   },
   "outputs": [],
   "source": [
    "-- *******************************\n",
    "-- ! 13. GROUP BY - 조건에 따라 집계된 값을 가져옵니다.\n",
    "SELECT Country FROM Customers\n",
    "GROUP BY Country;\n",
    "\n",
    "SELECT CategoryID FROM Products\n",
    "GROUP BY CategoryID;\n",
    "\n",
    "--todo 여러 컬럼을 기준으로 그룹화할 수도 있습니다.\n",
    "SELECT \n",
    "  Country, City,\n",
    "  CONCAT_WS(', ', City, Country)\n",
    "FROM Customers\n",
    "GROUP BY Country, City;\n"
   ]
  },
  {
   "cell_type": "code",
   "execution_count": null,
   "metadata": {
    "vscode": {
     "languageId": "sql"
    }
   },
   "outputs": [],
   "source": [
    "--todo 그룹 함수 활용하기\n",
    "SELECT\n",
    "  COUNT(*), OrderDate\n",
    "FROM Orders\n",
    "GROUP BY OrderDate;\n",
    "\n",
    "SELECT\n",
    "  ProductID,\n",
    "  SUM(Quantity) AS QuantitySum\n",
    "FROM OrderDetails\n",
    "GROUP BY ProductID\n",
    "ORDER BY QuantitySum DESC;\n",
    "\n",
    "SELECT\n",
    "  CategoryID,\n",
    "  MAX(Price) AS MaxPrice, \n",
    "  MIN(Price) AS MinPrice,\n",
    "  TRUNCATE((MAX(Price) + MIN(Price)) / 2, 2) AS MedianPrice,\n",
    "  TRUNCATE(AVG(Price), 2) AS AveragePrice\n",
    "FROM Products\n",
    "GROUP BY CategoryID;\n",
    "\n",
    "SELECT \n",
    "  CONCAT_WS(', ', City, Country) AS Location,\n",
    "  COUNT(CustomerID)\n",
    "FROM Customers\n",
    "GROUP BY Country, City;"
   ]
  },
  {
   "cell_type": "code",
   "execution_count": null,
   "metadata": {
    "vscode": {
     "languageId": "sql"
    }
   },
   "outputs": [],
   "source": [
    "-- WITH ROLLUP - 전체의 집계값\n",
    "SELECT\n",
    "  Country, COUNT(*)\n",
    "FROM Suppliers\n",
    "GROUP BY Country\n",
    "WITH ROLLUP;\n",
    "\n",
    "--HAVING - 그룹화된 데이터 걸러내기\n",
    "SELECT\n",
    "  Country, COUNT(*) AS Count\n",
    "FROM Suppliers\n",
    "GROUP BY Country\n",
    "HAVING Count >= 3;\n",
    "\n",
    "-- WHERE는 그룹하기 전 데이터, HAVING은 그룹 후 집계에 사용합니다.\n",
    "SELECT\n",
    "  COUNT(*) AS Count, OrderDate\n",
    "FROM Orders\n",
    "WHERE OrderDate > DATE('1996-12-31')\n",
    "GROUP BY OrderDate\n",
    "HAVING Count > 2;\n",
    "\n",
    "SELECT\n",
    "  CategoryID,\n",
    "  MAX(Price) AS MaxPrice, \n",
    "  MIN(Price) AS MinPrice,\n",
    "  TRUNCATE((MAX(Price) + MIN(Price)) / 2, 2) AS MedianPrice,\n",
    "  TRUNCATE(AVG(Price), 2) AS AveragePrice\n",
    "FROM Products\n",
    "WHERE CategoryID > 2\n",
    "GROUP BY CategoryID\n",
    "HAVING\n",
    "  AveragePrice BETWEEN 20 AND 30\n",
    "  AND MedianPrice < 40;\n"
   ]
  },
  {
   "cell_type": "code",
   "execution_count": null,
   "metadata": {
    "vscode": {
     "languageId": "sql"
    }
   },
   "outputs": [],
   "source": [
    "-- *******************************\n",
    "-- ! 14. DISTINCT - 중복된 값들을 제거합니다.\n",
    "--GROUP BY 와 달리 집계함수가 사용되지 않습니다.\n",
    "--GROUP BY 와 달리 정렬하지 않으므로 더 빠릅니다.\n",
    "\n",
    "SELECT DISTINCT CategoryID\n",
    "FROM Products;\n",
    "-- TODO 위의 GROUP BY를 사용한 쿼리와 결과 비교\n",
    "\n",
    "SELECT COUNT DISTINCT CategoryID\n",
    "FROM Products;\n",
    "-- 오류 발생\n",
    "\n",
    "SELECT DISTINCT Country\n",
    "FROM Customers\n",
    "ORDER BY Country;\n",
    "\n",
    "SELECT DISTINCT Country, City\n",
    "FROM Customers\n",
    "ORDER BY Country, City;\n",
    "\n",
    "--TODO GROUP BY와 DISTINCT 함께 활용하기\n",
    "SELECT\n",
    "  Country,\n",
    "  COUNT(DISTINCT CITY)\n",
    "FROM Customers\n",
    "GROUP BY Country;\n",
    "\n",
    "-- *******************************\n",
    "-- 각종 연산자들"
   ]
  },
  {
   "cell_type": "code",
   "execution_count": null,
   "metadata": {
    "vscode": {
     "languageId": "sql"
    }
   },
   "outputs": [],
   "source": []
  }
 ],
 "metadata": {
  "kernelspec": {
   "display_name": "Python 3.9.6 64-bit",
   "language": "python",
   "name": "python3"
  },
  "language_info": {
   "name": "python",
   "version": "3.9.6"
  },
  "orig_nbformat": 4,
  "vscode": {
   "interpreter": {
    "hash": "31f2aee4e71d21fbe5cf8b01ff0e069b9275f58929596ceb00d14d90e3e16cd6"
   }
  }
 },
 "nbformat": 4,
 "nbformat_minor": 2
}
