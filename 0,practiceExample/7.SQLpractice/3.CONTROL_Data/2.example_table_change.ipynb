{
 "cells": [
  {
   "cell_type": "code",
   "execution_count": null,
   "metadata": {
    "vscode": {
     "languageId": "sql"
    }
   },
   "outputs": [],
   "source": [
    "-- ! 예제 데이터 섹션\n",
    "CREATE TABLE sections (\n",
    "  section_id INT AUTO_INCREMENT PRIMARY KEY,\n",
    "  section_name CHAR(3) NOT NULL,\n",
    "  floor TINYINT NOT NULL\n",
    ");\n",
    "\n",
    "INSERT INTO sections (section_name, floor)\n",
    "VALUES  ('한식', 2),\n",
    "        ('분식', 2),\n",
    "        ('중식', 3),\n",
    "        ('일식', 3),\n",
    "        ('양식', 3),\n",
    "        ('카페', 1),\n",
    "        ('디저트', 1);"
   ]
  },
  {
   "cell_type": "code",
   "execution_count": null,
   "metadata": {
    "vscode": {
     "languageId": "sql"
    }
   },
   "outputs": [
    {
     "ename": "",
     "evalue": "",
     "output_type": "error",
     "traceback": [
      "\u001b[1;31mJupyter를 시작할 수 없습니다. Jupyter를 찾는 중 오류: 'Python 3.9.6 64-bit'(으)로 셀을 실행하려면 notebook 및 jupyter 패키지가 필요합니다.\n",
      "\u001b[1;31m다음 명령어를 실행하여 Python 환경에 'jupyter 및 notebook'을(를) 설치합니다. \n",
      "\u001b[1;31m 명령: 'python -m pip install jupyter notebook -U\n",
      "\u001b[1;31mor\n",
      "\u001b[1;31mconda install jupyter notebook -U'\n",
      "\u001b[1;31m자세한 내용을 보려면 <a href='https://aka.ms/installJupyterForVSCode'>여기</a>를 클릭합니다."
     ]
    }
   ],
   "source": [
    "-- ! 예제 데이터 \n",
    "\n",
    "CREATE TABLE businesses (\n",
    "  business_id INT AUTO_INCREMENT PRIMARY KEY,\n",
    "  fk_section_id INT NOT NULL,\n",
    "  business_name VARCHAR(10) NOT NULL,\n",
    "  status CHAR(3) DEFAULT 'OPN' NOT NULL,\n",
    "  can_takeout TINYINT DEFAULT 1 NOT NULL\n",
    ");\n",
    "\n",
    "INSERT INTO businesses (fk_section_id, business_name, status, can_takeout)\n",
    "VALUES  (3, '화룡각', 'OPN', 1),\n",
    "        (2, '철구분식', 'OPN', 1),\n",
    "        (5, '얄코렐라', 'RMD', 1),\n",
    "        (2, '바른떡볶이', 'OPN', 1),\n",
    "        (1, '북극냉면', 'OPN', 0),\n",
    "        (1, '보쌈마니아', 'OPN', 1),\n",
    "        (5, '에그사라다', 'VCT', 1),\n",
    "        (6, '달다방', 'OPN', 1),\n",
    "        (7, '마카오마카롱', 'OPN', 1),\n",
    "        (2, '김밥마라', 'OPN', 1),\n",
    "        (7, '소소스윗', 'OPN', 1),\n",
    "        (4, '사사서셔소쇼스시', 'VCT', 1),\n",
    "        (3, '린민짬뽕', 'CLS', 1),\n",
    "        (7, '파시조아', 'OPN', 1),\n",
    "        (1, '할매장국', 'CLS', 0),\n",
    "        (5, '노선이탈리아', 'OPN', 1),\n",
    "        (6, '커피앤코드', 'OPN', 1),\n",
    "        (2, '신림동백순대', 'VCT', 1);"
   ]
  },
  {
   "cell_type": "code",
   "execution_count": null,
   "metadata": {
    "vscode": {
     "languageId": "sql"
    }
   },
   "outputs": [
    {
     "ename": "",
     "evalue": "",
     "output_type": "error",
     "traceback": [
      "\u001b[1;31mJupyter를 시작할 수 없습니다. Jupyter를 찾는 중 오류: 'Python 3.9.6 64-bit'(으)로 셀을 실행하려면 notebook 및 jupyter 패키지가 필요합니다.\n",
      "\u001b[1;31m다음 명령어를 실행하여 Python 환경에 'jupyter 및 notebook'을(를) 설치합니다. \n",
      "\u001b[1;31m 명령: 'python -m pip install jupyter notebook -U\n",
      "\u001b[1;31mor\n",
      "\u001b[1;31mconda install jupyter notebook -U'\n",
      "\u001b[1;31m자세한 내용을 보려면 <a href='https://aka.ms/installJupyterForVSCode'>여기</a>를 클릭합니다."
     ]
    }
   ],
   "source": [
    "CREATE TABLE menus (\n",
    "  menu_id INT AUTO_INCREMENT PRIMARY KEY,\n",
    "  fk_business_id INT NOT NULL,\n",
    "  menu_name VARCHAR(20) NOT NULL,\n",
    "  kilocalories DECIMAL(7,2) NOT NULL,\n",
    "  price INT NOT NULL,\n",
    "  likes INT DEFAULT 0 NOT NULL\n",
    ");\n",
    "\n",
    "INSERT INTO menus (fk_business_id, menu_name, kilocalories, price, likes)\n",
    "VALUES  (5, '물냉면', 480.23, 8000, 3),\n",
    "        (8, '아메리카노', 16.44, 4500, 6),\n",
    "        (17, '고르곤졸라피자', 1046.27, 12000, 12),\n",
    "        (6, '보쌈', 1288.24, 14000, 2),\n",
    "        (15, '장국', 387.36, 8500, -1),\n",
    "        (17, '까르보나라', 619.11, 9000, 10),\n",
    "        (9, '바닐라마카롱', 160.62, 1500, 4),\n",
    "        (16, '백순대', 681.95, 11000, 24),\n",
    "        (6, '마늘보쌈', 1320.49, 16000, 7),\n",
    "        (16, '양념순대볶음', 729.17, 12000, 0),\n",
    "        (14, '단팥빵', 225.88, 1500, 13),\n",
    "        (1, '간짜장', 682.48, 7000, 3),\n",
    "        (9, '뚱카롱', 247.62, 2000, 8),\n",
    "        (5, '비빔냉면', 563.45, 8000, 4),\n",
    "        (10, '참치김밥', 532.39, 3000, 0),\n",
    "        (2, '치즈떡볶이', 638.42, 5000, 15),\n",
    "        (11, '플레인와플', 299.31, 6500, 2),\n",
    "        (2, '찹쌀순대', 312.76, 3000, -4),\n",
    "        (15, '육개장', 423.18, 8500, 2),\n",
    "        (4, '국물떡볶이', 483.29, 4500, 1),\n",
    "        (10, '돈가스김밥', 562.72, 4000, 0),\n",
    "        (1, '삼선짬뽕', 787.58, 8000, 32),\n",
    "        (11, '수플레팬케익', 452.37, 9500, 5),\n",
    "        (4, '라볶이', 423.16, 5500, 0),\n",
    "        (8, '모카프라푸치노', 216.39, 6000, 8),\n",
    "        (14, '옛날팥빙수', 382.35, 8000, 2);"
   ]
  },
  {
   "cell_type": "code",
   "execution_count": null,
   "metadata": {
    "vscode": {
     "languageId": "sql"
    }
   },
   "outputs": [
    {
     "ename": "",
     "evalue": "",
     "output_type": "error",
     "traceback": [
      "\u001b[1;31mJupyter를 시작할 수 없습니다. Jupyter를 찾는 중 오류: 'Python 3.9.6 64-bit'(으)로 셀을 실행하려면 notebook 및 jupyter 패키지가 필요합니다.\n",
      "\u001b[1;31m다음 명령어를 실행하여 Python 환경에 'jupyter 및 notebook'을(를) 설치합니다. \n",
      "\u001b[1;31m 명령: 'python -m pip install jupyter notebook -U\n",
      "\u001b[1;31mor\n",
      "\u001b[1;31mconda install jupyter notebook -U'\n",
      "\u001b[1;31m자세한 내용을 보려면 <a href='https://aka.ms/installJupyterForVSCode'>여기</a>를 클릭합니다."
     ]
    }
   ],
   "source": [
    "CREATE TABLE ratings (\n",
    "  rating_id INT AUTO_INCREMENT PRIMARY KEY,\n",
    "  fk_business_id INT NOT NULL,\n",
    "  stars TINYINT NOT NULL,\n",
    "  comment VARCHAR(200) null,\n",
    "  created timestamp DEFAULT CURRENT_TIMESTAMP NOT NULL\n",
    ");\n",
    "\n",
    "INSERT INTO ratings (fk_business_id, stars, comment, created)\n",
    "VALUES  (2, 4, '치떡이 진리. 순대는 별로', '2021-07-01 12:30:04'),\n",
    "        (16, 3, '그냥저냥 먹을만해요', '2021-07-01 17:16:07'),\n",
    "        (14, 5, '인생팥빵. 말이 필요없음', '2021-07-03 11:28:12'),\n",
    "        (5, 3, '육수는 괜찮은데 면은 그냥 시판면 쓴 것 같네요.', '2021-07-04 19:03:50'),\n",
    "        (11, 4, '나오는데 넘 오래걸림. 맛은 있어요', '2021-07-04 13:37:42'),\n",
    "        (9, 2, '빵집에서 파는 마카롱이랑 비슷하거나 못합니다.', '2021-07-06 15:19:23'),\n",
    "        (16, 5, '신림에서 먹던 맛 완벽재현', '2021-07-06 20:01:39');"
   ]
  }
 ],
 "metadata": {
  "kernelspec": {
   "display_name": "Python 3.9.6 64-bit",
   "language": "python",
   "name": "python3"
  },
  "language_info": {
   "name": "python",
   "version": "3.9.6"
  },
  "orig_nbformat": 4,
  "vscode": {
   "interpreter": {
    "hash": "31f2aee4e71d21fbe5cf8b01ff0e069b9275f58929596ceb00d14d90e3e16cd6"
   }
  }
 },
 "nbformat": 4,
 "nbformat_minor": 2
}
