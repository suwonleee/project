{
 "cells": [
  {
   "cell_type": "code",
   "execution_count": null,
   "metadata": {
    "vscode": {
     "languageId": "sql"
    }
   },
   "outputs": [],
   "source": [
    "-- *******************************\n",
    "-- ! 1. 숫자 자료형\n",
    "-- * a.정수\n",
    "-- TINYINT\t1\t-128 ~ 127\t0 ~ 255\n",
    "-- SMALLINT\t2\t-32,768 ~ 32,767\t0 ~ 65,535\n",
    "-- MEDIUMINT\t3\t-8,388,608 ~ 8,388,607\t0 ~ 16,777,215\n",
    "-- INT\t4\t-2,147,483,648 ~ 2,147,483,647\t0 ~ 4,294,967,295\n",
    "-- BIGINT\t8\t-2^63 ~ 2^63 - 1\t0 ~ 2^64 - 1"
   ]
  },
  {
   "cell_type": "code",
   "execution_count": null,
   "metadata": {
    "vscode": {
     "languageId": "sql"
    }
   },
   "outputs": [],
   "source": [
    "-- * b. 고정 소수점(Fixed Point) 수\n",
    "-- 좁은 범위의 수 표현 가능, 정확한 값\n",
    "-- 자료형\t설명\t범위\n",
    "-- DECIMAL( s, d )\t실수 부분 총 자릿수( s ) & 소수 부분 자릿수 ( d )\ts 최대 65"
   ]
  },
  {
   "cell_type": "code",
   "execution_count": null,
   "metadata": {
    "vscode": {
     "languageId": "sql"
    }
   },
   "outputs": [],
   "source": [
    "️-- * c. 부동 소수점(Floating Point) 수\n",
    "-- 넓은 범위의 수 표현 가능, 정확하지 않은 값 (일반적으로 충분히 정확)\n",
    "-- 자료형\t표현 범위\n",
    "-- FLOAT\t-3.402...E+38 ~ -1.175...E-38 , 0 , 1.175...E-38 ~ 3.402...E+38\n",
    "-- DOUBLE\t-1.797...E+308 ~ -2.225E-308 , 0 , 2.225...E-308 ~ 1.797...E+308"
   ]
  },
  {
   "cell_type": "code",
   "execution_count": null,
   "metadata": {
    "vscode": {
     "languageId": "sql"
    }
   },
   "outputs": [],
   "source": [
    "-- *******************************\n",
    "-- ! 2. 문자 자료형\n",
    "-- * a.문자열\n",
    "--자료형\t         설명\t               차지하는 바이트\t               최대 바이트\n",
    "--CHAR( s )\t고정 사이즈 (남는 글자 스페이스로 채움)\ts (고정값)\t              255\n",
    "--VARCHAR ( s )\t가변 사이즈\t실제 글자 수     [최대 s] + 1 [글자수 정보]\t   65,535\n",
    "\n",
    "-- 검색시 CHAR가 더 빠름\n",
    "-- VARCHAR 컬럼 길이값이 4글자보다 적을 경우 CHAR로 자동 변환"
   ]
  },
  {
   "cell_type": "code",
   "execution_count": null,
   "metadata": {
    "vscode": {
     "languageId": "sql"
    }
   },
   "outputs": [],
   "source": [
    "-- * b.텍스트\n",
    "--  자료형\t최대 바이트 크기\n",
    "-- TINYTEXT\t   255\n",
    "-- TEXT\t      65,535\n",
    "-- MEDIUMTEXT\t 6,777,215\n",
    "-- LONGTEXT\t   4,294,967,295"
   ]
  },
  {
   "cell_type": "code",
   "execution_count": null,
   "metadata": {
    "vscode": {
     "languageId": "sql"
    }
   },
   "outputs": [],
   "source": [
    "-- *******************************\n",
    "-- ! 3. 시간 자료형\n",
    "-- 자료형\t설명\t비고\n",
    "-- DATE\tYYYY-MM-DD\t\n",
    "-- TIME\tHHH:MI:SS\tHHH: -838 ~ 838까지의 시간\n",
    "-- DATETIME\tYYYY-MM-DD HH:MI:SS\t입력된 시간을 그 값 자체로 저장\n",
    "-- TIMESTAMP\tYYYY-MM-DD HH:MI:SS\tMySQL이 설치된 컴퓨터의 시간대를 기준으로 저장\n",
    "-- 시간 데이터를 가감없이 기록할 때 DATETIME\n",
    "-- 시간 자동기록, 국제적인 서비스를 할 경우 TIMESTAMP 사용\n"
   ]
  },
  {
   "cell_type": "code",
   "execution_count": null,
   "metadata": {
    "vscode": {
     "languageId": "sql"
    }
   },
   "outputs": [],
   "source": []
  }
 ],
 "metadata": {
  "kernelspec": {
   "display_name": "Python 3.9.6 64-bit",
   "language": "python",
   "name": "python3"
  },
  "language_info": {
   "name": "python",
   "version": "3.9.6"
  },
  "orig_nbformat": 4,
  "vscode": {
   "interpreter": {
    "hash": "31f2aee4e71d21fbe5cf8b01ff0e069b9275f58929596ceb00d14d90e3e16cd6"
   }
  }
 },
 "nbformat": 4,
 "nbformat_minor": 2
}
