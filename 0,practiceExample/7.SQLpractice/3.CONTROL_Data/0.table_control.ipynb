{
 "cells": [
  {
   "cell_type": "code",
   "execution_count": null,
   "metadata": {
    "vscode": {
     "languageId": "sql"
    }
   },
   "outputs": [],
   "source": [
    "-- *******************************\n",
    "-- ! 1. 테이블 생성/수정/삭제\n",
    "-- * CREATE TABLE - 테이블 만들기\n",
    "CREATE TABLE people (\n",
    "  person_id INT,\n",
    "  person_name VARCHAR(10),\n",
    "  age TINYINT,\n",
    "  birthday DATE\n",
    ");\n",
    "\n",
    "-- * ALTER TABLE - 테이블 변경\n",
    "-- 테이블명 변경\n",
    "ALTER TABLE people RENAME TO  friends,\n",
    "-- 컬럼 자료형 변경\n",
    "CHANGE COLUMN person_id person_id TINYINT,\n",
    "-- 컬럼명 변경\n",
    "CHANGE COLUMN person_name person_nickname VARCHAR(10), \n",
    "-- 컬럼 삭제\n",
    "DROP COLUMN birthday,\n",
    "-- 컬럼 추가\n",
    "ADD COLUMN is_married TINYINT AFTER age;\n",
    "\n",
    "-- *DROP TABLE - 테이블 삭제\n",
    "DROP TABLE friends;\n"
   ]
  },
  {
   "cell_type": "code",
   "execution_count": null,
   "metadata": {
    "vscode": {
     "languageId": "sql"
    }
   },
   "outputs": [],
   "source": [
    "-- *******************************\n",
    "-- ! 2. INSERT INTO - 데이터 삽입\n",
    "INSERT INTO people\n",
    "  (person_id, person_name, age, birthday)\n",
    "  VALUES (1, '홍길동', 21, '2000-01-31');\n",
    "\n",
    "  -- 모든 컬럼에 값 넣을 때는 컬럼명들 생략 가능\n",
    "INSERT INTO people\n",
    "  VALUES (2, '전우치', 18, '2003-05-12');\n",
    "\n",
    "  -- 일부 컬럼에만 값 넣기 가능 (NOT NULL은 생략 불가)\n",
    "INSERT INTO people\n",
    "  (person_id, person_name, birthday)\n",
    "  VALUES (3, '임꺽정', '1995-11-04');\n",
    "\n",
    "  -- 자료형에 맞지 않는 값은 오류 발생\n",
    "INSERT INTO people\n",
    "  (person_id, person_name, age, birthday)\n",
    "  VALUES (1, '임꺽정', '스물여섯', '1995-11-04');\n",
    "\n",
    "  -- 여러 행을 한 번에 입력 가능\n",
    "INSERT INTO people\n",
    "  (person_id, person_name, age, birthday)\n",
    "  VALUES \n",
    "    (4, '존 스미스', 30, '1991-03-01'),\n",
    "    (5, '루피 D. 몽키', 15, '2006-12-07'),\n",
    "    (6, '황비홍', 24, '1997-10-30');"
   ]
  },
  {
   "cell_type": "code",
   "execution_count": null,
   "metadata": {
    "vscode": {
     "languageId": "sql"
    }
   },
   "outputs": [],
   "source": [
    "-- *******************************\n",
    "-- ! 3. 테이블 생성시 제약 넣기\n",
    "CREATE TABLE people (\n",
    "  person_id INT AUTO_INCREMENT PRIMARY KEY,\n",
    "  person_name VARCHAR(10) NOT NULL,\n",
    "  nickname VARCHAR(10) UNIQUE NOT NULL,\n",
    "  age TINYINT UNSIGNED,\n",
    "  is_married TINYINT DEFAULT 0\n",
    ");\n",
    "--💡 PRIMARY KEY (기본키)\n",
    "-- 테이블마다 하나만 가능\n",
    "-- 기본적으로 인덱스 생성 (기본키 행 기준으로 빠른 검색 가능)\n",
    "-- 보통 AUTO_INCREMENT와 함께 사용\n",
    "-- ⭐ 각 행을 고유하게 식별 가능 - 테이블마다 하나씩 둘 것\n",
    "\n",
    "INSERT INTO people \n",
    "  (person_name, nickname, age)\n",
    "  VALUES ('김철수', '아이언워터', 10);\n",
    "\n",
    "INSERT INTO people \n",
    "  (person_name, nickname, age)\n",
    "  VALUES ('이불가', '임파서블', -2);\n",
    "  \n",
    "INSERT INTO people \n",
    "  (person_name, nickname, age, is_married)\n",
    "  VALUES ('박쇳물', '아이언워터', NULL, 1);\n",
    "  -- nickname에 NULL, '아이언수' 넣어보기"
   ]
  }
 ],
 "metadata": {
  "kernelspec": {
   "display_name": "Python 3.9.6 64-bit",
   "language": "python",
   "name": "python3"
  },
  "language_info": {
   "name": "python",
   "version": "3.9.6"
  },
  "orig_nbformat": 4,
  "vscode": {
   "interpreter": {
    "hash": "31f2aee4e71d21fbe5cf8b01ff0e069b9275f58929596ceb00d14d90e3e16cd6"
   }
  }
 },
 "nbformat": 4,
 "nbformat_minor": 2
}
